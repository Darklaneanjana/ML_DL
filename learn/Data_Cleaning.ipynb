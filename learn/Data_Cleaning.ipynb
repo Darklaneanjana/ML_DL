{
  "nbformat": 4,
  "nbformat_minor": 0,
  "metadata": {
    "colab": {
      "name": "Data Cleaning.ipynb",
      "provenance": [],
      "collapsed_sections": []
    },
    "kernelspec": {
      "name": "python3",
      "display_name": "Python 3"
    },
    "language_info": {
      "name": "python"
    }
  },
  "cells": [
    {
      "cell_type": "markdown",
      "source": [
        "#Handling Missing Values"
      ],
      "metadata": {
        "id": "YajDUm0xn-LX"
      }
    },
    {
      "cell_type": "code",
      "source": [
        "import pandas as pd\n",
        "import numpy as np\n",
        "\n",
        "nfl_data = pd.read_csv(\"../input/nflplaybyplay2009to2016/NFL Play by Play 2009-2017 (v4).csv\")\n",
        "reviews = pd.read_csv(\"winemag-data-130k-v2.csv\",index_col = 0)\n",
        "\n",
        "!unzip drive/MyDrive/datasets/winemag-data-130k-v2.csv.zip\n",
        "\n",
        "np.random.seed(0) "
      ],
      "metadata": {
        "id": "MFf8KdQJoQy7"
      },
      "execution_count": null,
      "outputs": []
    }
  ]
}