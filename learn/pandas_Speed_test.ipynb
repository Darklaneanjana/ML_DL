{
 "cells": [
  {
   "cell_type": "code",
   "execution_count": 20,
   "metadata": {},
   "outputs": [],
   "source": [
    "import pandas as pd\n",
    "import numpy as np"
   ]
  },
  {
   "cell_type": "code",
   "execution_count": 21,
   "metadata": {},
   "outputs": [],
   "source": [
    "def get_df(): \n",
    "    df = pd.DataFrame()\n",
    "    size = 1000000\n",
    "    df['age'] = np.random.randint(0, 100, size)\n",
    "    df['time_in_bed'] = np.random.randint(0, 9, size)\n",
    "    df['pct_sleeping'] = np.random.randint(size)\n",
    "    df['favorite_color'] = np.random.choice(['red', 'blue', 'green'], size)\n",
    "    df['hate_color'] = np.random.choice(['black', 'yello', 'brown'], size)\n",
    "    return df"
   ]
  },
  {
   "cell_type": "code",
   "execution_count": 22,
   "metadata": {},
   "outputs": [],
   "source": [
    "def cal(row):\n",
    "    if row['time_in_bed'] > 5:\n",
    "        return row['favorite_color']\n",
    "    else:\n",
    "        return  row['hate_color']"
   ]
  },
  {
   "cell_type": "code",
   "execution_count": 23,
   "metadata": {},
   "outputs": [],
   "source": [
    "df = get_df()\n",
    "df['reward'] = df.apply(cal, axis=1)"
   ]
  },
  {
   "cell_type": "markdown",
   "metadata": {},
   "source": [
    "## Vectorization"
   ]
  },
  {
   "cell_type": "code",
   "execution_count": 33,
   "metadata": {},
   "outputs": [],
   "source": [
    "# %%timeit\n",
    "df = get_df()\n",
    "df['reward'] = df['hate_color']\n",
    "df.loc[(df['time_in_bed'] > 5),'reward'] = df['favorite_color']"
   ]
  },
  {
   "cell_type": "code",
   "execution_count": 34,
   "metadata": {},
   "outputs": [
    {
     "data": {
      "text/html": [
       "<div>\n",
       "<style scoped>\n",
       "    .dataframe tbody tr th:only-of-type {\n",
       "        vertical-align: middle;\n",
       "    }\n",
       "\n",
       "    .dataframe tbody tr th {\n",
       "        vertical-align: top;\n",
       "    }\n",
       "\n",
       "    .dataframe thead th {\n",
       "        text-align: right;\n",
       "    }\n",
       "</style>\n",
       "<table border=\"1\" class=\"dataframe\">\n",
       "  <thead>\n",
       "    <tr style=\"text-align: right;\">\n",
       "      <th></th>\n",
       "      <th>age</th>\n",
       "      <th>time_in_bed</th>\n",
       "      <th>pct_sleeping</th>\n",
       "      <th>favorite_color</th>\n",
       "      <th>hate_color</th>\n",
       "      <th>reward</th>\n",
       "    </tr>\n",
       "  </thead>\n",
       "  <tbody>\n",
       "    <tr>\n",
       "      <th>0</th>\n",
       "      <td>64</td>\n",
       "      <td>2</td>\n",
       "      <td>714796</td>\n",
       "      <td>blue</td>\n",
       "      <td>black</td>\n",
       "      <td>black</td>\n",
       "    </tr>\n",
       "    <tr>\n",
       "      <th>1</th>\n",
       "      <td>67</td>\n",
       "      <td>2</td>\n",
       "      <td>714796</td>\n",
       "      <td>red</td>\n",
       "      <td>yello</td>\n",
       "      <td>yello</td>\n",
       "    </tr>\n",
       "    <tr>\n",
       "      <th>2</th>\n",
       "      <td>94</td>\n",
       "      <td>4</td>\n",
       "      <td>714796</td>\n",
       "      <td>blue</td>\n",
       "      <td>brown</td>\n",
       "      <td>brown</td>\n",
       "    </tr>\n",
       "    <tr>\n",
       "      <th>3</th>\n",
       "      <td>64</td>\n",
       "      <td>5</td>\n",
       "      <td>714796</td>\n",
       "      <td>blue</td>\n",
       "      <td>yello</td>\n",
       "      <td>yello</td>\n",
       "    </tr>\n",
       "    <tr>\n",
       "      <th>4</th>\n",
       "      <td>49</td>\n",
       "      <td>5</td>\n",
       "      <td>714796</td>\n",
       "      <td>blue</td>\n",
       "      <td>yello</td>\n",
       "      <td>yello</td>\n",
       "    </tr>\n",
       "    <tr>\n",
       "      <th>...</th>\n",
       "      <td>...</td>\n",
       "      <td>...</td>\n",
       "      <td>...</td>\n",
       "      <td>...</td>\n",
       "      <td>...</td>\n",
       "      <td>...</td>\n",
       "    </tr>\n",
       "    <tr>\n",
       "      <th>999995</th>\n",
       "      <td>57</td>\n",
       "      <td>8</td>\n",
       "      <td>714796</td>\n",
       "      <td>green</td>\n",
       "      <td>brown</td>\n",
       "      <td>green</td>\n",
       "    </tr>\n",
       "    <tr>\n",
       "      <th>999996</th>\n",
       "      <td>58</td>\n",
       "      <td>3</td>\n",
       "      <td>714796</td>\n",
       "      <td>red</td>\n",
       "      <td>yello</td>\n",
       "      <td>yello</td>\n",
       "    </tr>\n",
       "    <tr>\n",
       "      <th>999997</th>\n",
       "      <td>16</td>\n",
       "      <td>5</td>\n",
       "      <td>714796</td>\n",
       "      <td>green</td>\n",
       "      <td>yello</td>\n",
       "      <td>yello</td>\n",
       "    </tr>\n",
       "    <tr>\n",
       "      <th>999998</th>\n",
       "      <td>49</td>\n",
       "      <td>1</td>\n",
       "      <td>714796</td>\n",
       "      <td>red</td>\n",
       "      <td>yello</td>\n",
       "      <td>yello</td>\n",
       "    </tr>\n",
       "    <tr>\n",
       "      <th>999999</th>\n",
       "      <td>47</td>\n",
       "      <td>8</td>\n",
       "      <td>714796</td>\n",
       "      <td>blue</td>\n",
       "      <td>brown</td>\n",
       "      <td>blue</td>\n",
       "    </tr>\n",
       "  </tbody>\n",
       "</table>\n",
       "<p>1000000 rows × 6 columns</p>\n",
       "</div>"
      ],
      "text/plain": [
       "        age  time_in_bed  pct_sleeping favorite_color hate_color reward\n",
       "0        64            2        714796           blue      black  black\n",
       "1        67            2        714796            red      yello  yello\n",
       "2        94            4        714796           blue      brown  brown\n",
       "3        64            5        714796           blue      yello  yello\n",
       "4        49            5        714796           blue      yello  yello\n",
       "...     ...          ...           ...            ...        ...    ...\n",
       "999995   57            8        714796          green      brown  green\n",
       "999996   58            3        714796            red      yello  yello\n",
       "999997   16            5        714796          green      yello  yello\n",
       "999998   49            1        714796            red      yello  yello\n",
       "999999   47            8        714796           blue      brown   blue\n",
       "\n",
       "[1000000 rows x 6 columns]"
      ]
     },
     "execution_count": 34,
     "metadata": {},
     "output_type": "execute_result"
    }
   ],
   "source": [
    "df"
   ]
  },
  {
   "cell_type": "markdown",
   "metadata": {},
   "source": [
    "### Vectorizaiton is much faster"
   ]
  }
 ],
 "metadata": {
  "kernelspec": {
   "display_name": "Python 3.10.8 64-bit",
   "language": "python",
   "name": "python3"
  },
  "language_info": {
   "codemirror_mode": {
    "name": "ipython",
    "version": 3
   },
   "file_extension": ".py",
   "mimetype": "text/x-python",
   "name": "python",
   "nbconvert_exporter": "python",
   "pygments_lexer": "ipython3",
   "version": "3.10.8"
  },
  "orig_nbformat": 4,
  "vscode": {
   "interpreter": {
    "hash": "26de051ba29f2982a8de78e945f0abaf191376122a1563185a90213a26c5da77"
   }
  }
 },
 "nbformat": 4,
 "nbformat_minor": 2
}
