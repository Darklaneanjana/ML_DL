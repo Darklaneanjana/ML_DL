{
 "cells": [
  {
   "cell_type": "code",
   "execution_count": 64,
   "metadata": {},
   "outputs": [],
   "source": [
    "import numpy as np\n",
    "import pandas as pd\n",
    "import matplotlib.pyplot as plt\n",
    "import seaborn as sns\n",
    "df = pd.read_excel('./Online Retail.xlsx')"
   ]
  },
  {
   "attachments": {},
   "cell_type": "markdown",
   "metadata": {},
   "source": [
    "### Data Understanding"
   ]
  },
  {
   "cell_type": "code",
   "execution_count": 65,
   "metadata": {},
   "outputs": [
    {
     "data": {
      "text/html": [
       "<div>\n",
       "<style scoped>\n",
       "    .dataframe tbody tr th:only-of-type {\n",
       "        vertical-align: middle;\n",
       "    }\n",
       "\n",
       "    .dataframe tbody tr th {\n",
       "        vertical-align: top;\n",
       "    }\n",
       "\n",
       "    .dataframe thead th {\n",
       "        text-align: right;\n",
       "    }\n",
       "</style>\n",
       "<table border=\"1\" class=\"dataframe\">\n",
       "  <thead>\n",
       "    <tr style=\"text-align: right;\">\n",
       "      <th></th>\n",
       "      <th>InvoiceNo</th>\n",
       "      <th>StockCode</th>\n",
       "      <th>Description</th>\n",
       "      <th>Quantity</th>\n",
       "      <th>InvoiceDate</th>\n",
       "      <th>UnitPrice</th>\n",
       "      <th>CustomerID</th>\n",
       "      <th>Country</th>\n",
       "    </tr>\n",
       "  </thead>\n",
       "  <tbody>\n",
       "    <tr>\n",
       "      <th>0</th>\n",
       "      <td>536365</td>\n",
       "      <td>85123A</td>\n",
       "      <td>WHITE HANGING HEART T-LIGHT HOLDER</td>\n",
       "      <td>6</td>\n",
       "      <td>2010-12-01 08:26:00</td>\n",
       "      <td>2.55</td>\n",
       "      <td>17850.0</td>\n",
       "      <td>United Kingdom</td>\n",
       "    </tr>\n",
       "    <tr>\n",
       "      <th>1</th>\n",
       "      <td>536365</td>\n",
       "      <td>71053</td>\n",
       "      <td>WHITE METAL LANTERN</td>\n",
       "      <td>6</td>\n",
       "      <td>2010-12-01 08:26:00</td>\n",
       "      <td>3.39</td>\n",
       "      <td>17850.0</td>\n",
       "      <td>United Kingdom</td>\n",
       "    </tr>\n",
       "    <tr>\n",
       "      <th>2</th>\n",
       "      <td>536365</td>\n",
       "      <td>84406B</td>\n",
       "      <td>CREAM CUPID HEARTS COAT HANGER</td>\n",
       "      <td>8</td>\n",
       "      <td>2010-12-01 08:26:00</td>\n",
       "      <td>2.75</td>\n",
       "      <td>17850.0</td>\n",
       "      <td>United Kingdom</td>\n",
       "    </tr>\n",
       "    <tr>\n",
       "      <th>3</th>\n",
       "      <td>536365</td>\n",
       "      <td>84029G</td>\n",
       "      <td>KNITTED UNION FLAG HOT WATER BOTTLE</td>\n",
       "      <td>6</td>\n",
       "      <td>2010-12-01 08:26:00</td>\n",
       "      <td>3.39</td>\n",
       "      <td>17850.0</td>\n",
       "      <td>United Kingdom</td>\n",
       "    </tr>\n",
       "    <tr>\n",
       "      <th>4</th>\n",
       "      <td>536365</td>\n",
       "      <td>84029E</td>\n",
       "      <td>RED WOOLLY HOTTIE WHITE HEART.</td>\n",
       "      <td>6</td>\n",
       "      <td>2010-12-01 08:26:00</td>\n",
       "      <td>3.39</td>\n",
       "      <td>17850.0</td>\n",
       "      <td>United Kingdom</td>\n",
       "    </tr>\n",
       "  </tbody>\n",
       "</table>\n",
       "</div>"
      ],
      "text/plain": [
       "  InvoiceNo StockCode                          Description  Quantity  \\\n",
       "0    536365    85123A   WHITE HANGING HEART T-LIGHT HOLDER         6   \n",
       "1    536365     71053                  WHITE METAL LANTERN         6   \n",
       "2    536365    84406B       CREAM CUPID HEARTS COAT HANGER         8   \n",
       "3    536365    84029G  KNITTED UNION FLAG HOT WATER BOTTLE         6   \n",
       "4    536365    84029E       RED WOOLLY HOTTIE WHITE HEART.         6   \n",
       "\n",
       "          InvoiceDate  UnitPrice  CustomerID         Country  \n",
       "0 2010-12-01 08:26:00       2.55     17850.0  United Kingdom  \n",
       "1 2010-12-01 08:26:00       3.39     17850.0  United Kingdom  \n",
       "2 2010-12-01 08:26:00       2.75     17850.0  United Kingdom  \n",
       "3 2010-12-01 08:26:00       3.39     17850.0  United Kingdom  \n",
       "4 2010-12-01 08:26:00       3.39     17850.0  United Kingdom  "
      ]
     },
     "execution_count": 65,
     "metadata": {},
     "output_type": "execute_result"
    }
   ],
   "source": [
    "df['InvoiceDate'] = pd.to_datetime(df['InvoiceDate'])  # Convert InvoiceDate to datetime\n",
    "# convert country to category\n",
    "df['Country'] = df['Country'].astype('category')\n",
    "df.head()"
   ]
  },
  {
   "attachments": {},
   "cell_type": "markdown",
   "metadata": {},
   "source": [
    "Data Understanding:\n",
    "The data set contains transactional data of a UK-based and registered non-store online retail selling unique all-occasion gifts. The data set consists of 8 variables:\n",
    "\n",
    "* InvoiceNo: Invoice number\n",
    "* StockCode: Product code\n",
    "* Description: Product name\n",
    "* Quantity: Quantity of each product per transaction\n",
    "* InvoiceDate: Invoice date and time\n",
    "* UnitPrice: Product price per unit in sterling\n",
    "* CustomerID: Customer number\n",
    "* Country: Country name\n",
    "\n",
    "Now, let's perform some data exploration tasks:\n",
    "\n",
    "Distribution Analysis:<br>\n",
    "Let's take a look at the distribution of variables in the data set."
   ]
  },
  {
   "cell_type": "code",
   "execution_count": 66,
   "metadata": {},
   "outputs": [
    {
     "data": {
      "text/html": [
       "<div>\n",
       "<style scoped>\n",
       "    .dataframe tbody tr th:only-of-type {\n",
       "        vertical-align: middle;\n",
       "    }\n",
       "\n",
       "    .dataframe tbody tr th {\n",
       "        vertical-align: top;\n",
       "    }\n",
       "\n",
       "    .dataframe thead th {\n",
       "        text-align: right;\n",
       "    }\n",
       "</style>\n",
       "<table border=\"1\" class=\"dataframe\">\n",
       "  <thead>\n",
       "    <tr style=\"text-align: right;\">\n",
       "      <th></th>\n",
       "      <th>Quantity</th>\n",
       "      <th>UnitPrice</th>\n",
       "      <th>CustomerID</th>\n",
       "    </tr>\n",
       "  </thead>\n",
       "  <tbody>\n",
       "    <tr>\n",
       "      <th>count</th>\n",
       "      <td>541909.000000</td>\n",
       "      <td>541909.000000</td>\n",
       "      <td>406829.000000</td>\n",
       "    </tr>\n",
       "    <tr>\n",
       "      <th>mean</th>\n",
       "      <td>9.552250</td>\n",
       "      <td>4.611114</td>\n",
       "      <td>15287.690570</td>\n",
       "    </tr>\n",
       "    <tr>\n",
       "      <th>std</th>\n",
       "      <td>218.081158</td>\n",
       "      <td>96.759853</td>\n",
       "      <td>1713.600303</td>\n",
       "    </tr>\n",
       "    <tr>\n",
       "      <th>min</th>\n",
       "      <td>-80995.000000</td>\n",
       "      <td>-11062.060000</td>\n",
       "      <td>12346.000000</td>\n",
       "    </tr>\n",
       "    <tr>\n",
       "      <th>25%</th>\n",
       "      <td>1.000000</td>\n",
       "      <td>1.250000</td>\n",
       "      <td>13953.000000</td>\n",
       "    </tr>\n",
       "    <tr>\n",
       "      <th>50%</th>\n",
       "      <td>3.000000</td>\n",
       "      <td>2.080000</td>\n",
       "      <td>15152.000000</td>\n",
       "    </tr>\n",
       "    <tr>\n",
       "      <th>75%</th>\n",
       "      <td>10.000000</td>\n",
       "      <td>4.130000</td>\n",
       "      <td>16791.000000</td>\n",
       "    </tr>\n",
       "    <tr>\n",
       "      <th>max</th>\n",
       "      <td>80995.000000</td>\n",
       "      <td>38970.000000</td>\n",
       "      <td>18287.000000</td>\n",
       "    </tr>\n",
       "  </tbody>\n",
       "</table>\n",
       "</div>"
      ],
      "text/plain": [
       "            Quantity      UnitPrice     CustomerID\n",
       "count  541909.000000  541909.000000  406829.000000\n",
       "mean        9.552250       4.611114   15287.690570\n",
       "std       218.081158      96.759853    1713.600303\n",
       "min    -80995.000000  -11062.060000   12346.000000\n",
       "25%         1.000000       1.250000   13953.000000\n",
       "50%         3.000000       2.080000   15152.000000\n",
       "75%        10.000000       4.130000   16791.000000\n",
       "max     80995.000000   38970.000000   18287.000000"
      ]
     },
     "execution_count": 66,
     "metadata": {},
     "output_type": "execute_result"
    }
   ],
   "source": [
    "df.describe()"
   ]
  },
  {
   "attachments": {},
   "cell_type": "markdown",
   "metadata": {},
   "source": [
    "From the output, we can see that:\n",
    "\n",
    "* Quantity has a minimum value of -80995 and a maximum value of 80995, indicating that there are negative values in the data set, which could indicate returns or cancellations.\n",
    "* UnitPrice has a minimum value of -11062.06, which is not possible, indicating that there may be errors in the data set.\n",
    "\n",
    "Let's investigate further."
   ]
  },
  {
   "attachments": {},
   "cell_type": "markdown",
   "metadata": {},
   "source": [
    "Suitable Transformation of Variables and Elimination of Redundant Variables:<br>\n",
    "Let's transform the data set by removing any redundant variables and handling any errors."
   ]
  },
  {
   "cell_type": "code",
   "execution_count": 67,
   "metadata": {},
   "outputs": [
    {
     "data": {
      "text/plain": [
       "InvoiceNo           0\n",
       "StockCode           0\n",
       "Description      1454\n",
       "Quantity            0\n",
       "InvoiceDate         0\n",
       "UnitPrice           0\n",
       "CustomerID     135080\n",
       "Country             0\n",
       "dtype: int64"
      ]
     },
     "execution_count": 67,
     "metadata": {},
     "output_type": "execute_result"
    }
   ],
   "source": [
    "df.isnull().sum()"
   ]
  },
  {
   "attachments": {},
   "cell_type": "markdown",
   "metadata": {},
   "source": [
    "### Data Preprocessing"
   ]
  },
  {
   "cell_type": "code",
   "execution_count": 68,
   "metadata": {},
   "outputs": [],
   "source": [
    "# Eliminate redundant variables\n",
    "df = df.drop('Description', axis=1)\n",
    "df = df.drop('CustomerID', axis=1)\n",
    "\n",
    "# Handle errors\n",
    "df = df[df['Quantity']>0]\n",
    "df = df[df['UnitPrice']>0]\n",
    "df = df[~df['InvoiceNo'].str.contains('C')]\n"
   ]
  },
  {
   "attachments": {},
   "cell_type": "markdown",
   "metadata": {},
   "source": [
    "In this case, we removed the 'Description' variable because it is redundant, and we removed any rows with negative quantities, negative unit prices, and transactions with invoice numbers starting with 'C' (indicating cancellations).\n"
   ]
  },
  {
   "cell_type": "code",
   "execution_count": 69,
   "metadata": {},
   "outputs": [
    {
     "data": {
      "text/html": [
       "<div>\n",
       "<style scoped>\n",
       "    .dataframe tbody tr th:only-of-type {\n",
       "        vertical-align: middle;\n",
       "    }\n",
       "\n",
       "    .dataframe tbody tr th {\n",
       "        vertical-align: top;\n",
       "    }\n",
       "\n",
       "    .dataframe thead th {\n",
       "        text-align: right;\n",
       "    }\n",
       "</style>\n",
       "<table border=\"1\" class=\"dataframe\">\n",
       "  <thead>\n",
       "    <tr style=\"text-align: right;\">\n",
       "      <th></th>\n",
       "      <th>Quantity</th>\n",
       "      <th>UnitPrice</th>\n",
       "    </tr>\n",
       "  </thead>\n",
       "  <tbody>\n",
       "    <tr>\n",
       "      <th>count</th>\n",
       "      <td>530104.000000</td>\n",
       "      <td>530104.000000</td>\n",
       "    </tr>\n",
       "    <tr>\n",
       "      <th>mean</th>\n",
       "      <td>10.542037</td>\n",
       "      <td>3.907625</td>\n",
       "    </tr>\n",
       "    <tr>\n",
       "      <th>std</th>\n",
       "      <td>155.524124</td>\n",
       "      <td>35.915681</td>\n",
       "    </tr>\n",
       "    <tr>\n",
       "      <th>min</th>\n",
       "      <td>1.000000</td>\n",
       "      <td>0.001000</td>\n",
       "    </tr>\n",
       "    <tr>\n",
       "      <th>25%</th>\n",
       "      <td>1.000000</td>\n",
       "      <td>1.250000</td>\n",
       "    </tr>\n",
       "    <tr>\n",
       "      <th>50%</th>\n",
       "      <td>3.000000</td>\n",
       "      <td>2.080000</td>\n",
       "    </tr>\n",
       "    <tr>\n",
       "      <th>75%</th>\n",
       "      <td>10.000000</td>\n",
       "      <td>4.130000</td>\n",
       "    </tr>\n",
       "    <tr>\n",
       "      <th>max</th>\n",
       "      <td>80995.000000</td>\n",
       "      <td>13541.330000</td>\n",
       "    </tr>\n",
       "  </tbody>\n",
       "</table>\n",
       "</div>"
      ],
      "text/plain": [
       "            Quantity      UnitPrice\n",
       "count  530104.000000  530104.000000\n",
       "mean       10.542037       3.907625\n",
       "std       155.524124      35.915681\n",
       "min         1.000000       0.001000\n",
       "25%         1.000000       1.250000\n",
       "50%         3.000000       2.080000\n",
       "75%        10.000000       4.130000\n",
       "max     80995.000000   13541.330000"
      ]
     },
     "execution_count": 69,
     "metadata": {},
     "output_type": "execute_result"
    }
   ],
   "source": [
    "df[['Quantity','UnitPrice']].describe()"
   ]
  },
  {
   "attachments": {},
   "cell_type": "markdown",
   "metadata": {},
   "source": [
    "Outliers can distort statistical analyses and models, and hence it is a good practice to identify and remove them.\n",
    "\n",
    "We can use box plots to visualize the distribution of the variables and identify any outliers. Let's plot box plots for 'Quantity' and 'UnitPrice' variables."
   ]
  },
  {
   "cell_type": "code",
   "execution_count": 70,
   "metadata": {},
   "outputs": [
    {
     "data": {
      "text/plain": [
       "<Axes: xlabel='UnitPrice'>"
      ]
     },
     "execution_count": 70,
     "metadata": {},
     "output_type": "execute_result"
    },
    {
     "data": {
      "image/png": "[encoded data removed]",
      "text/plain": [
       "<Figure size 1000x600 with 2 Axes>"
      ]
     },
     "metadata": {},
     "output_type": "display_data"
    }
   ],
   "source": [
    "import seaborn as sns\n",
    "fig, ax = plt.subplots(1,2,figsize=(10, 6))\n",
    "\n",
    "# Box plot for Quantity and UnitPrice\n",
    "sns.boxplot(ax = ax[0], x=df['Quantity'])\n",
    "sns.boxplot(ax = ax[1], x=df['UnitPrice'])\n"
   ]
  },
  {
   "attachments": {},
   "cell_type": "markdown",
   "metadata": {},
   "source": [
    "From the box plots, we can see that both 'Quantity' and 'UnitPrice' variables have a large number of outliers.\n",
    "\n",
    "We can use the interquartile range (IQR) method to remove outliers. The IQR is the difference between the 75th and 25th percentiles of the data. Any data point outside the range of 1.5 times the IQR below the 25th percentile or above the 75th percentile can be considered an outlier."
   ]
  },
  {
   "cell_type": "code",
   "execution_count": 71,
   "metadata": {},
   "outputs": [],
   "source": [
    "# Calculate the 95th percentile for Quantity\n",
    "Q95 = df['Quantity'].quantile(0.995)\n",
    "\n",
    "# Keep only data points below the 95th percentile for Quantity\n",
    "df = df[df['Quantity'] <= Q95]\n",
    "\n",
    "# Calculate the 95th percentile for UnitPrice\n",
    "UP95 = df['UnitPrice'].quantile(0.995)\n",
    "\n",
    "# Keep only data points below the 95th percentile for UnitPrice\n",
    "df = df[df['UnitPrice'] <= UP95]\n"
   ]
  },
  {
   "attachments": {},
   "cell_type": "markdown",
   "metadata": {},
   "source": [
    "The method is effective at identifying and removing extreme values without biasing the overall distribution of the data."
   ]
  },
  {
   "cell_type": "code",
   "execution_count": 72,
   "metadata": {},
   "outputs": [
    {
     "data": {
      "text/html": [
       "<div>\n",
       "<style scoped>\n",
       "    .dataframe tbody tr th:only-of-type {\n",
       "        vertical-align: middle;\n",
       "    }\n",
       "\n",
       "    .dataframe tbody tr th {\n",
       "        vertical-align: top;\n",
       "    }\n",
       "\n",
       "    .dataframe thead th {\n",
       "        text-align: right;\n",
       "    }\n",
       "</style>\n",
       "<table border=\"1\" class=\"dataframe\">\n",
       "  <thead>\n",
       "    <tr style=\"text-align: right;\">\n",
       "      <th></th>\n",
       "      <th>Quantity</th>\n",
       "      <th>UnitPrice</th>\n",
       "    </tr>\n",
       "  </thead>\n",
       "  <tbody>\n",
       "    <tr>\n",
       "      <th>count</th>\n",
       "      <td>525236.000000</td>\n",
       "      <td>525236.000000</td>\n",
       "    </tr>\n",
       "    <tr>\n",
       "      <th>mean</th>\n",
       "      <td>8.498757</td>\n",
       "      <td>3.203093</td>\n",
       "    </tr>\n",
       "    <tr>\n",
       "      <th>std</th>\n",
       "      <td>15.007999</td>\n",
       "      <td>3.226830</td>\n",
       "    </tr>\n",
       "    <tr>\n",
       "      <th>min</th>\n",
       "      <td>1.000000</td>\n",
       "      <td>0.001000</td>\n",
       "    </tr>\n",
       "    <tr>\n",
       "      <th>25%</th>\n",
       "      <td>1.000000</td>\n",
       "      <td>1.250000</td>\n",
       "    </tr>\n",
       "    <tr>\n",
       "      <th>50%</th>\n",
       "      <td>3.000000</td>\n",
       "      <td>2.080000</td>\n",
       "    </tr>\n",
       "    <tr>\n",
       "      <th>75%</th>\n",
       "      <td>10.000000</td>\n",
       "      <td>4.130000</td>\n",
       "    </tr>\n",
       "    <tr>\n",
       "      <th>max</th>\n",
       "      <td>160.000000</td>\n",
       "      <td>24.960000</td>\n",
       "    </tr>\n",
       "  </tbody>\n",
       "</table>\n",
       "</div>"
      ],
      "text/plain": [
       "            Quantity      UnitPrice\n",
       "count  525236.000000  525236.000000\n",
       "mean        8.498757       3.203093\n",
       "std        15.007999       3.226830\n",
       "min         1.000000       0.001000\n",
       "25%         1.000000       1.250000\n",
       "50%         3.000000       2.080000\n",
       "75%        10.000000       4.130000\n",
       "max       160.000000      24.960000"
      ]
     },
     "execution_count": 72,
     "metadata": {},
     "output_type": "execute_result"
    }
   ],
   "source": [
    "df[['Quantity','UnitPrice']].describe()"
   ]
  },
  {
   "attachments": {},
   "cell_type": "markdown",
   "metadata": {},
   "source": [
    "### EDA"
   ]
  },
  {
   "cell_type": "code",
   "execution_count": 73,
   "metadata": {},
   "outputs": [
    {
     "data": {
      "text/plain": [
       "array([[<Axes: title={'center': 'UnitPrice'}>,\n",
       "        <Axes: title={'center': 'Quantity'}>]], dtype=object)"
      ]
     },
     "execution_count": 73,
     "metadata": {},
     "output_type": "execute_result"
    },
    {
     "data": {
      "image/png": "[encoded data removed]",
      "text/plain": [
       "<Figure size 2400x500 with 2 Axes>"
      ]
     },
     "metadata": {},
     "output_type": "display_data"
    }
   ],
   "source": [
    "# Distribution analysis\n",
    "df[['UnitPrice','Quantity']].hist(figsize=(24,5), bins=20)"
   ]
  },
  {
   "attachments": {},
   "cell_type": "markdown",
   "metadata": {},
   "source": [
    "From the histograms, we can see that:\n",
    "\n",
    "* Quantity is heavily skewed to the right, indicating that most transactions involve small quantities of products.\n",
    "* UnitPrice is also heavily skewed to the right, indicating that most products are relatively inexpensive."
   ]
  },
  {
   "cell_type": "code",
   "execution_count": 74,
   "metadata": {},
   "outputs": [
    {
     "data": {
      "text/plain": [
       "<Axes: xlabel='UnitPrice'>"
      ]
     },
     "execution_count": 74,
     "metadata": {},
     "output_type": "execute_result"
    },
    {
     "data": {
      "image/png": "[encoded data removed]",
      "text/plain": [
       "<Figure size 1500x600 with 2 Axes>"
      ]
     },
     "metadata": {},
     "output_type": "display_data"
    }
   ],
   "source": [
    "fig, ax = plt.subplots(1,2,figsize=(15, 6))\n",
    "\n",
    "\n",
    "# boxenplot\n",
    "sns.boxenplot(ax=ax[0], x='Quantity', data=df,)\n",
    "sns.boxenplot(ax=ax[1], x='UnitPrice', data=df)"
   ]
  },
  {
   "attachments": {},
   "cell_type": "markdown",
   "metadata": {},
   "source": [
    "Management of Missing Values:<br>\n",
    "Let's check for missing values in the data set."
   ]
  },
  {
   "cell_type": "code",
   "execution_count": 75,
   "metadata": {},
   "outputs": [
    {
     "data": {
      "text/plain": [
       "InvoiceNo      0\n",
       "StockCode      0\n",
       "Quantity       0\n",
       "InvoiceDate    0\n",
       "UnitPrice      0\n",
       "Country        0\n",
       "dtype: int64"
      ]
     },
     "execution_count": 75,
     "metadata": {},
     "output_type": "execute_result"
    }
   ],
   "source": [
    "# Check for missing values\n",
    "df.isnull().sum()\n"
   ]
  },
  {
   "attachments": {},
   "cell_type": "markdown",
   "metadata": {},
   "source": [
    "From the output, we can see that the 'CustomerID' variable has 135037 missing values. We can either drop these rows or impute them with an appropriate value. For the purpose of this analysis, let's drop the rows with missing 'CustomerID' values."
   ]
  },
  {
   "cell_type": "code",
   "execution_count": 76,
   "metadata": {},
   "outputs": [],
   "source": [
    "# Drop rows with missing values\n",
    "df = df.fillna(0)"
   ]
  },
  {
   "cell_type": "code",
   "execution_count": 77,
   "metadata": {},
   "outputs": [
    {
     "data": {
      "text/html": [
       "<div>\n",
       "<style scoped>\n",
       "    .dataframe tbody tr th:only-of-type {\n",
       "        vertical-align: middle;\n",
       "    }\n",
       "\n",
       "    .dataframe tbody tr th {\n",
       "        vertical-align: top;\n",
       "    }\n",
       "\n",
       "    .dataframe thead th {\n",
       "        text-align: right;\n",
       "    }\n",
       "</style>\n",
       "<table border=\"1\" class=\"dataframe\">\n",
       "  <thead>\n",
       "    <tr style=\"text-align: right;\">\n",
       "      <th></th>\n",
       "      <th></th>\n",
       "      <th>total</th>\n",
       "      <th>Quantity</th>\n",
       "    </tr>\n",
       "    <tr>\n",
       "      <th>InvoiceNo</th>\n",
       "      <th>InvoiceDate</th>\n",
       "      <th></th>\n",
       "      <th></th>\n",
       "    </tr>\n",
       "  </thead>\n",
       "  <tbody>\n",
       "    <tr>\n",
       "      <th>536365</th>\n",
       "      <th>2010-12-01 08:26:00</th>\n",
       "      <td>139.12</td>\n",
       "      <td>40</td>\n",
       "    </tr>\n",
       "    <tr>\n",
       "      <th>536366</th>\n",
       "      <th>2010-12-01 08:28:00</th>\n",
       "      <td>22.20</td>\n",
       "      <td>12</td>\n",
       "    </tr>\n",
       "    <tr>\n",
       "      <th>536367</th>\n",
       "      <th>2010-12-01 08:34:00</th>\n",
       "      <td>278.73</td>\n",
       "      <td>83</td>\n",
       "    </tr>\n",
       "    <tr>\n",
       "      <th>536368</th>\n",
       "      <th>2010-12-01 08:34:00</th>\n",
       "      <td>70.05</td>\n",
       "      <td>15</td>\n",
       "    </tr>\n",
       "    <tr>\n",
       "      <th>536369</th>\n",
       "      <th>2010-12-01 08:35:00</th>\n",
       "      <td>17.85</td>\n",
       "      <td>3</td>\n",
       "    </tr>\n",
       "  </tbody>\n",
       "</table>\n",
       "</div>"
      ],
      "text/plain": [
       "                                total  Quantity\n",
       "InvoiceNo InvoiceDate                          \n",
       "536365    2010-12-01 08:26:00  139.12        40\n",
       "536366    2010-12-01 08:28:00   22.20        12\n",
       "536367    2010-12-01 08:34:00  278.73        83\n",
       "536368    2010-12-01 08:34:00   70.05        15\n",
       "536369    2010-12-01 08:35:00   17.85         3"
      ]
     },
     "execution_count": 77,
     "metadata": {},
     "output_type": "execute_result"
    }
   ],
   "source": [
    "\n",
    "df['total'] = df['Quantity'] * df['UnitPrice']\n",
    "gdf = df[['InvoiceNo', 'InvoiceDate', 'total','Quantity']].groupby(['InvoiceNo', 'InvoiceDate']).sum()\n",
    "\n",
    "gdf.head()\n"
   ]
  },
  {
   "cell_type": "code",
   "execution_count": 83,
   "metadata": {},
   "outputs": [
    {
     "data": {
      "image/png": "[encoded data removed]",
      "text/plain": [
       "<Figure size 2000x500 with 2 Axes>"
      ]
     },
     "metadata": {},
     "output_type": "display_data"
    }
   ],
   "source": [
    "fig, axs = plt.subplots(1,2, figsize=(20, 5), sharex=True)\n",
    "\n",
    "df.set_index('InvoiceDate')['UnitPrice'].resample('D').sum().rolling(window=7).mean().plot(ax=axs[0])\n",
    "axs[0].set_title('Total Price of Products Sold (Daily)')\n",
    "axs[0].set_ylabel('Total Price')\n",
    "\n",
    "df.set_index('InvoiceDate')['Quantity'].resample('D').sum().rolling(window=7).mean().plot(ax=axs[1])\n",
    "axs[1].set_title('Quantity of Products Sold (Daily)')\n",
    "axs[1].set_xlabel('Date')\n",
    "axs[1].set_ylabel('Quantity')\n",
    "\n",
    "plt.show()\n"
   ]
  },
  {
   "cell_type": "code",
   "execution_count": 84,
   "metadata": {},
   "outputs": [
    {
     "name": "stdout",
     "output_type": "stream",
     "text": [
      "           Quantity    TotalPrice\n",
      "count  3.800000e+01  3.800000e+01\n",
      "mean   1.174698e+05  4.427315e+04\n",
      "std    6.043403e+05  2.497217e+05\n",
      "min    8.000000e+01  2.116000e+01\n",
      "25%    1.123000e+03  3.688250e+02\n",
      "50%    4.852000e+03  1.010145e+03\n",
      "75%    1.784800e+04  3.278525e+03\n",
      "max    3.738793e+06  1.542512e+06\n"
     ]
    }
   ],
   "source": [
    "grouped_data = df.groupby(['Country']).agg({'Quantity': 'sum', 'UnitPrice': 'sum'})\n",
    "grouped_data = grouped_data.rename(columns={'UnitPrice': 'TotalPrice'})\n",
    "print(grouped_data.describe())\n"
   ]
  },
  {
   "cell_type": "code",
   "execution_count": 85,
   "metadata": {},
   "outputs": [
    {
     "data": {
      "text/html": [
       "<div>\n",
       "<style scoped>\n",
       "    .dataframe tbody tr th:only-of-type {\n",
       "        vertical-align: middle;\n",
       "    }\n",
       "\n",
       "    .dataframe tbody tr th {\n",
       "        vertical-align: top;\n",
       "    }\n",
       "\n",
       "    .dataframe thead th {\n",
       "        text-align: right;\n",
       "    }\n",
       "</style>\n",
       "<table border=\"1\" class=\"dataframe\">\n",
       "  <thead>\n",
       "    <tr style=\"text-align: right;\">\n",
       "      <th></th>\n",
       "      <th>Country</th>\n",
       "      <th>Quantity</th>\n",
       "      <th>TotalPrice</th>\n",
       "    </tr>\n",
       "  </thead>\n",
       "  <tbody>\n",
       "    <tr>\n",
       "      <th>0</th>\n",
       "      <td>United Kingdom</td>\n",
       "      <td>3738793</td>\n",
       "      <td>1542511.824</td>\n",
       "    </tr>\n",
       "    <tr>\n",
       "      <th>1</th>\n",
       "      <td>Germany</td>\n",
       "      <td>115968</td>\n",
       "      <td>29930.180</td>\n",
       "    </tr>\n",
       "    <tr>\n",
       "      <th>2</th>\n",
       "      <td>France</td>\n",
       "      <td>107216</td>\n",
       "      <td>26667.730</td>\n",
       "    </tr>\n",
       "    <tr>\n",
       "      <th>3</th>\n",
       "      <td>EIRE</td>\n",
       "      <td>118509</td>\n",
       "      <td>25488.670</td>\n",
       "    </tr>\n",
       "    <tr>\n",
       "      <th>4</th>\n",
       "      <td>Spain</td>\n",
       "      <td>24942</td>\n",
       "      <td>7575.960</td>\n",
       "    </tr>\n",
       "  </tbody>\n",
       "</table>\n",
       "</div>"
      ],
      "text/plain": [
       "          Country  Quantity   TotalPrice\n",
       "0  United Kingdom   3738793  1542511.824\n",
       "1         Germany    115968    29930.180\n",
       "2          France    107216    26667.730\n",
       "3            EIRE    118509    25488.670\n",
       "4           Spain     24942     7575.960"
      ]
     },
     "execution_count": 85,
     "metadata": {},
     "output_type": "execute_result"
    }
   ],
   "source": [
    "# Checking the distribution of Quantity and UnitPrice for the top 5 countries with highest total quantity\n",
    "top_countries = grouped_data.sort_values('TotalPrice', ascending=False).reset_index()\n",
    "# make the country category to string \n",
    "top_countries['Country'] = top_countries['Country'].astype('str')\n",
    "top_countries.head(5)"
   ]
  },
  {
   "cell_type": "code",
   "execution_count": 81,
   "metadata": {},
   "outputs": [],
   "source": [
    "top_countries = top_countries.iloc[0:5,]"
   ]
  },
  {
   "cell_type": "code",
   "execution_count": null,
   "metadata": {},
   "outputs": [
    {
     "data": {
      "image/png": "[encoded data removed]",
      "text/plain": [
       "<Figure size 640x480 with 1 Axes>"
      ]
     },
     "metadata": {},
     "output_type": "display_data"
    }
   ],
   "source": [
    "sns.barplot(x='Country', y='UnitPrice', data=top_countries)\n",
    "plt.title(\"Distribution of Quantity for Top 5 Countries with Highest Total Quantity\")\n",
    "plt.show()"
   ]
  },
  {
   "attachments": {},
   "cell_type": "markdown",
   "metadata": {},
   "source": [
    "Statistical Exploration:<br>\n",
    "Let's explore some statistical relationships between variables in the data set."
   ]
  },
  {
   "cell_type": "code",
   "execution_count": null,
   "metadata": {},
   "outputs": [
    {
     "name": "stderr",
     "output_type": "stream",
     "text": [
      "C:\\Users\\darklane\\AppData\\Local\\Temp\\ipykernel_6632\\1279981688.py:2: FutureWarning: The default value of numeric_only in DataFrame.corr is deprecated. In a future version, it will default to False. Select only valid columns or specify the value of numeric_only to silence this warning.\n",
      "  corr = df.corr()\n"
     ]
    },
    {
     "data": {
      "text/plain": [
       "<Axes: >"
      ]
     },
     "execution_count": 34,
     "metadata": {},
     "output_type": "execute_result"
    },
    {
     "data": {
      "image/png": "[encoded data removed]",
      "text/plain": [
       "<Figure size 640x480 with 2 Axes>"
      ]
     },
     "metadata": {},
     "output_type": "display_data"
    }
   ],
   "source": [
    "# Statistical exploration\n",
    "corr = df.corr()\n",
    "sns.heatmap(corr, annot=True, cmap='coolwarm')"
   ]
  },
  {
   "attachments": {},
   "cell_type": "markdown",
   "metadata": {},
   "source": [
    "From the heatmap, we can see that there is a small corralation between Quentity and the total"
   ]
  },
  {
   "cell_type": "code",
   "execution_count": null,
   "metadata": {},
   "outputs": [
    {
     "data": {
      "text/plain": [
       "['United Kingdom', 'Germany', 'France']"
      ]
     },
     "execution_count": 35,
     "metadata": {},
     "output_type": "execute_result"
    }
   ],
   "source": [
    "# Group data by country\n",
    "grouped_data = df.groupby('Country')\n",
    "\n",
    "# Get the number of transactions per country\n",
    "transactions_per_country = grouped_data['InvoiceNo'].nunique()\n",
    "\n",
    "# Get the top 3 baskets (countries) based on the number of transactions\n",
    "top_baskets = transactions_per_country.nlargest(3).index.tolist()\n",
    "\n",
    "top_baskets"
   ]
  },
  {
   "cell_type": "code",
   "execution_count": null,
   "metadata": {},
   "outputs": [],
   "source": [
    "# Create separate dataframes for each country\n",
    "uk_df = df[df['Country']=='United Kingdom']\n",
    "de_df = df[df['Country']=='Germany']\n",
    "fr_df = df[df['Country']=='France']\n",
    "\n",
    "del gdf, df"
   ]
  },
  {
   "cell_type": "code",
   "execution_count": null,
   "metadata": {},
   "outputs": [
    {
     "name": "stdout",
     "output_type": "stream",
     "text": [
      "(481396, 7) (9009, 7) (8379, 7)\n"
     ]
    }
   ],
   "source": [
    "print(uk_df.shape,de_df.shape, fr_df.shape)"
   ]
  },
  {
   "attachments": {},
   "cell_type": "markdown",
   "metadata": {},
   "source": [
    "To apply the Apriori algorithm for each basket, we first need to prepare the data in the format required by the algorithm. We need to convert the transaction data into a one-hot encoded format where each row represents a single transaction and each column represents a unique item. A value of 1 in a cell indicates that the item was present in the transaction, and a value of 0 indicates that it was not."
   ]
  },
  {
   "cell_type": "code",
   "execution_count": null,
   "metadata": {},
   "outputs": [],
   "source": [
    "from mlxtend.preprocessing import TransactionEncoder\n",
    "\n",
    "# Create transaction dataset for each country\n",
    "def create_transaction_dataset(df):\n",
    "    # Group data by InvoiceNo and StockCode\n",
    "    grouped_data = df.groupby(['InvoiceNo', 'StockCode'])\n",
    "    \n",
    "    # Create list of unique StockCodes for each InvoiceNo\n",
    "    transactions = df.groupby(['InvoiceNo'])['StockCode'].apply(list).reset_index(name='StockCode').drop('InvoiceNo', axis=1)['StockCode'].values.tolist()\n",
    "        \n",
    "    # # Encode the transaction dataset\n",
    "    te = TransactionEncoder()\n",
    "    te_data = te.fit_transform(transactions)\n",
    "    transaction_df = pd.DataFrame(te_data, columns=te.columns_)\n",
    "    \n",
    "    return transaction_df\n",
    "\n",
    "# Create transaction datasets for each country\n",
    "uk_df_transaction = create_transaction_dataset(uk_df)\n",
    "de_df_transaction = create_transaction_dataset(de_df)\n",
    "fr_df_transaction = create_transaction_dataset(fr_df)"
   ]
  },
  {
   "attachments": {},
   "cell_type": "markdown",
   "metadata": {},
   "source": [
    "We can now apply the Apriori algorithm to each of the one-hot encoded data sets to extract frequent itemsets."
   ]
  },
  {
   "cell_type": "code",
   "execution_count": 104,
   "metadata": {},
   "outputs": [],
   "source": [
    "from mlxtend.frequent_patterns import apriori\n",
    "\n",
    "# Set minimum support threshold\n",
    "uk_min_support = 0.02\n",
    "de_min_support = 0.03\n",
    "fr_min_support = 0.04\n",
    "\n",
    "\n",
    "# Generate frequent itemsets for each country\n",
    "uk_frequent_itemsets = apriori(uk_df_transaction, min_support=uk_min_support, use_colnames=True)\n",
    "de_frequent_itemsets = apriori(de_df_transaction, min_support=de_min_support, use_colnames=True)\n",
    "fr_frequent_itemsets = apriori(fr_df_transaction, min_support=fr_min_support, use_colnames=True)\n",
    "\n",
    "uk_frequent_itemsets['length'] = uk_frequent_itemsets['itemsets'].apply(lambda x: len(x))\n",
    "de_frequent_itemsets['length'] = de_frequent_itemsets['itemsets'].apply(lambda x: len(x))\n",
    "fr_frequent_itemsets['length'] = fr_frequent_itemsets['itemsets'].apply(lambda x: len(x))\n"
   ]
  },
  {
   "attachments": {},
   "cell_type": "markdown",
   "metadata": {},
   "source": [
    "Now that we have extracted frequent itemsets for each basket, we can analyze the business value of each basket. This can be done by identifying the most frequent itemsets in each basket and analyzing the relationship between them. For example, if certain items are frequently purchased together, it may indicate a complementary relationship between the items. This information can be used to improve product bundling and cross-selling strategies.\n",
    "\n",
    "Additionally, we can use association rules to analyze the relationship between different itemsets and identify strong rules that can be used to drive business value. For example, we may find that customers who purchase a certain item are highly likely to also purchase a related item. This information can be used to drive targeted marketing and promotions."
   ]
  },
  {
   "cell_type": "code",
   "execution_count": 105,
   "metadata": {},
   "outputs": [
    {
     "data": {
      "text/html": [
       "<div>\n",
       "<style scoped>\n",
       "    .dataframe tbody tr th:only-of-type {\n",
       "        vertical-align: middle;\n",
       "    }\n",
       "\n",
       "    .dataframe tbody tr th {\n",
       "        vertical-align: top;\n",
       "    }\n",
       "\n",
       "    .dataframe thead th {\n",
       "        text-align: right;\n",
       "    }\n",
       "</style>\n",
       "<table border=\"1\" class=\"dataframe\">\n",
       "  <thead>\n",
       "    <tr style=\"text-align: right;\">\n",
       "      <th></th>\n",
       "      <th>support</th>\n",
       "      <th>itemsets</th>\n",
       "      <th>length</th>\n",
       "    </tr>\n",
       "  </thead>\n",
       "  <tbody>\n",
       "    <tr>\n",
       "      <th>0</th>\n",
       "      <td>0.043205</td>\n",
       "      <td>(22386, 85099B)</td>\n",
       "      <td>2</td>\n",
       "    </tr>\n",
       "    <tr>\n",
       "      <th>1</th>\n",
       "      <td>0.039524</td>\n",
       "      <td>(22697, 22699)</td>\n",
       "      <td>2</td>\n",
       "    </tr>\n",
       "    <tr>\n",
       "      <th>2</th>\n",
       "      <td>0.039128</td>\n",
       "      <td>(85099B, 21931)</td>\n",
       "      <td>2</td>\n",
       "    </tr>\n",
       "    <tr>\n",
       "      <th>3</th>\n",
       "      <td>0.037033</td>\n",
       "      <td>(85099B, 22411)</td>\n",
       "      <td>2</td>\n",
       "    </tr>\n",
       "    <tr>\n",
       "      <th>4</th>\n",
       "      <td>0.034371</td>\n",
       "      <td>(20727, 20725)</td>\n",
       "      <td>2</td>\n",
       "    </tr>\n",
       "    <tr>\n",
       "      <th>5</th>\n",
       "      <td>0.034088</td>\n",
       "      <td>(20725, 22383)</td>\n",
       "      <td>2</td>\n",
       "    </tr>\n",
       "    <tr>\n",
       "      <th>6</th>\n",
       "      <td>0.032559</td>\n",
       "      <td>(22697, 22698)</td>\n",
       "      <td>2</td>\n",
       "    </tr>\n",
       "    <tr>\n",
       "      <th>7</th>\n",
       "      <td>0.031993</td>\n",
       "      <td>(20727, 22383)</td>\n",
       "      <td>2</td>\n",
       "    </tr>\n",
       "    <tr>\n",
       "      <th>8</th>\n",
       "      <td>0.031710</td>\n",
       "      <td>(22727, 22726)</td>\n",
       "      <td>2</td>\n",
       "    </tr>\n",
       "    <tr>\n",
       "      <th>9</th>\n",
       "      <td>0.031540</td>\n",
       "      <td>(85099B, 85099C)</td>\n",
       "      <td>2</td>\n",
       "    </tr>\n",
       "  </tbody>\n",
       "</table>\n",
       "</div>"
      ],
      "text/plain": [
       "    support          itemsets  length\n",
       "0  0.043205   (22386, 85099B)       2\n",
       "1  0.039524    (22697, 22699)       2\n",
       "2  0.039128   (85099B, 21931)       2\n",
       "3  0.037033   (85099B, 22411)       2\n",
       "4  0.034371    (20727, 20725)       2\n",
       "5  0.034088    (20725, 22383)       2\n",
       "6  0.032559    (22697, 22698)       2\n",
       "7  0.031993    (20727, 22383)       2\n",
       "8  0.031710    (22727, 22726)       2\n",
       "9  0.031540  (85099B, 85099C)       2"
      ]
     },
     "execution_count": 105,
     "metadata": {},
     "output_type": "execute_result"
    }
   ],
   "source": [
    "uk_frequent_itemsets[(uk_frequent_itemsets['length']  > 1)].sort_values(by='support', ascending=False).reset_index(drop=True).head(10)"
   ]
  },
  {
   "cell_type": "code",
   "execution_count": 106,
   "metadata": {},
   "outputs": [
    {
     "data": {
      "text/html": [
       "<div>\n",
       "<style scoped>\n",
       "    .dataframe tbody tr th:only-of-type {\n",
       "        vertical-align: middle;\n",
       "    }\n",
       "\n",
       "    .dataframe tbody tr th {\n",
       "        vertical-align: top;\n",
       "    }\n",
       "\n",
       "    .dataframe thead th {\n",
       "        text-align: right;\n",
       "    }\n",
       "</style>\n",
       "<table border=\"1\" class=\"dataframe\">\n",
       "  <thead>\n",
       "    <tr style=\"text-align: right;\">\n",
       "      <th></th>\n",
       "      <th>support</th>\n",
       "      <th>itemsets</th>\n",
       "      <th>length</th>\n",
       "    </tr>\n",
       "  </thead>\n",
       "  <tbody>\n",
       "    <tr>\n",
       "      <th>0</th>\n",
       "      <td>0.229399</td>\n",
       "      <td>(POST, 22326)</td>\n",
       "      <td>2</td>\n",
       "    </tr>\n",
       "    <tr>\n",
       "      <th>1</th>\n",
       "      <td>0.153675</td>\n",
       "      <td>(22328, POST)</td>\n",
       "      <td>2</td>\n",
       "    </tr>\n",
       "    <tr>\n",
       "      <th>2</th>\n",
       "      <td>0.133630</td>\n",
       "      <td>(22328, 22326)</td>\n",
       "      <td>2</td>\n",
       "    </tr>\n",
       "    <tr>\n",
       "      <th>3</th>\n",
       "      <td>0.126949</td>\n",
       "      <td>(22328, POST, 22326)</td>\n",
       "      <td>3</td>\n",
       "    </tr>\n",
       "    <tr>\n",
       "      <th>4</th>\n",
       "      <td>0.120267</td>\n",
       "      <td>(22423, POST)</td>\n",
       "      <td>2</td>\n",
       "    </tr>\n",
       "    <tr>\n",
       "      <th>5</th>\n",
       "      <td>0.118040</td>\n",
       "      <td>(POST, 20719)</td>\n",
       "      <td>2</td>\n",
       "    </tr>\n",
       "    <tr>\n",
       "      <th>6</th>\n",
       "      <td>0.118040</td>\n",
       "      <td>(POST, 22554)</td>\n",
       "      <td>2</td>\n",
       "    </tr>\n",
       "    <tr>\n",
       "      <th>7</th>\n",
       "      <td>0.102450</td>\n",
       "      <td>(POST, 22551)</td>\n",
       "      <td>2</td>\n",
       "    </tr>\n",
       "    <tr>\n",
       "      <th>8</th>\n",
       "      <td>0.100223</td>\n",
       "      <td>(22556, POST)</td>\n",
       "      <td>2</td>\n",
       "    </tr>\n",
       "    <tr>\n",
       "      <th>9</th>\n",
       "      <td>0.093541</td>\n",
       "      <td>(POST, 22077)</td>\n",
       "      <td>2</td>\n",
       "    </tr>\n",
       "  </tbody>\n",
       "</table>\n",
       "</div>"
      ],
      "text/plain": [
       "    support              itemsets  length\n",
       "0  0.229399         (POST, 22326)       2\n",
       "1  0.153675         (22328, POST)       2\n",
       "2  0.133630        (22328, 22326)       2\n",
       "3  0.126949  (22328, POST, 22326)       3\n",
       "4  0.120267         (22423, POST)       2\n",
       "5  0.118040         (POST, 20719)       2\n",
       "6  0.118040         (POST, 22554)       2\n",
       "7  0.102450         (POST, 22551)       2\n",
       "8  0.100223         (22556, POST)       2\n",
       "9  0.093541         (POST, 22077)       2"
      ]
     },
     "execution_count": 106,
     "metadata": {},
     "output_type": "execute_result"
    }
   ],
   "source": [
    "de_frequent_itemsets[(de_frequent_itemsets['length']  > 1)].sort_values(by='support', ascending=False).reset_index(drop=True).head(10)"
   ]
  },
  {
   "cell_type": "code",
   "execution_count": 107,
   "metadata": {},
   "outputs": [
    {
     "data": {
      "text/html": [
       "<div>\n",
       "<style scoped>\n",
       "    .dataframe tbody tr th:only-of-type {\n",
       "        vertical-align: middle;\n",
       "    }\n",
       "\n",
       "    .dataframe tbody tr th {\n",
       "        vertical-align: top;\n",
       "    }\n",
       "\n",
       "    .dataframe thead th {\n",
       "        text-align: right;\n",
       "    }\n",
       "</style>\n",
       "<table border=\"1\" class=\"dataframe\">\n",
       "  <thead>\n",
       "    <tr style=\"text-align: right;\">\n",
       "      <th></th>\n",
       "      <th>support</th>\n",
       "      <th>itemsets</th>\n",
       "      <th>length</th>\n",
       "    </tr>\n",
       "  </thead>\n",
       "  <tbody>\n",
       "    <tr>\n",
       "      <th>0</th>\n",
       "      <td>0.160622</td>\n",
       "      <td>(POST, 21731)</td>\n",
       "      <td>2</td>\n",
       "    </tr>\n",
       "    <tr>\n",
       "      <th>1</th>\n",
       "      <td>0.160622</td>\n",
       "      <td>(23084, POST)</td>\n",
       "      <td>2</td>\n",
       "    </tr>\n",
       "    <tr>\n",
       "      <th>2</th>\n",
       "      <td>0.147668</td>\n",
       "      <td>(22556, POST)</td>\n",
       "      <td>2</td>\n",
       "    </tr>\n",
       "    <tr>\n",
       "      <th>3</th>\n",
       "      <td>0.147668</td>\n",
       "      <td>(POST, 22326)</td>\n",
       "      <td>2</td>\n",
       "    </tr>\n",
       "    <tr>\n",
       "      <th>4</th>\n",
       "      <td>0.137306</td>\n",
       "      <td>(POST, 22554)</td>\n",
       "      <td>2</td>\n",
       "    </tr>\n",
       "    <tr>\n",
       "      <th>5</th>\n",
       "      <td>0.124352</td>\n",
       "      <td>(21086, 21094)</td>\n",
       "      <td>2</td>\n",
       "    </tr>\n",
       "    <tr>\n",
       "      <th>6</th>\n",
       "      <td>0.121762</td>\n",
       "      <td>(POST, 20725)</td>\n",
       "      <td>2</td>\n",
       "    </tr>\n",
       "    <tr>\n",
       "      <th>7</th>\n",
       "      <td>0.116580</td>\n",
       "      <td>(20750, POST)</td>\n",
       "      <td>2</td>\n",
       "    </tr>\n",
       "    <tr>\n",
       "      <th>8</th>\n",
       "      <td>0.116580</td>\n",
       "      <td>(POST, 21559)</td>\n",
       "      <td>2</td>\n",
       "    </tr>\n",
       "    <tr>\n",
       "      <th>9</th>\n",
       "      <td>0.116580</td>\n",
       "      <td>(POST, 22352)</td>\n",
       "      <td>2</td>\n",
       "    </tr>\n",
       "  </tbody>\n",
       "</table>\n",
       "</div>"
      ],
      "text/plain": [
       "    support        itemsets  length\n",
       "0  0.160622   (POST, 21731)       2\n",
       "1  0.160622   (23084, POST)       2\n",
       "2  0.147668   (22556, POST)       2\n",
       "3  0.147668   (POST, 22326)       2\n",
       "4  0.137306   (POST, 22554)       2\n",
       "5  0.124352  (21086, 21094)       2\n",
       "6  0.121762   (POST, 20725)       2\n",
       "7  0.116580   (20750, POST)       2\n",
       "8  0.116580   (POST, 21559)       2\n",
       "9  0.116580   (POST, 22352)       2"
      ]
     },
     "execution_count": 107,
     "metadata": {},
     "output_type": "execute_result"
    }
   ],
   "source": [
    "fr_frequent_itemsets[(fr_frequent_itemsets['length']  > 1)].sort_values(by='support', ascending=False).reset_index(drop=True).head(10)"
   ]
  },
  {
   "cell_type": "code",
   "execution_count": 112,
   "metadata": {},
   "outputs": [
    {
     "data": {
      "text/html": [
       "<div>\n",
       "<style scoped>\n",
       "    .dataframe tbody tr th:only-of-type {\n",
       "        vertical-align: middle;\n",
       "    }\n",
       "\n",
       "    .dataframe tbody tr th {\n",
       "        vertical-align: top;\n",
       "    }\n",
       "\n",
       "    .dataframe thead th {\n",
       "        text-align: right;\n",
       "    }\n",
       "</style>\n",
       "<table border=\"1\" class=\"dataframe\">\n",
       "  <thead>\n",
       "    <tr style=\"text-align: right;\">\n",
       "      <th></th>\n",
       "      <th>antecedents</th>\n",
       "      <th>consequents</th>\n",
       "      <th>antecedent support</th>\n",
       "      <th>consequent support</th>\n",
       "      <th>support</th>\n",
       "      <th>confidence</th>\n",
       "      <th>lift</th>\n",
       "      <th>leverage</th>\n",
       "      <th>conviction</th>\n",
       "      <th>zhangs_metric</th>\n",
       "    </tr>\n",
       "  </thead>\n",
       "  <tbody>\n",
       "    <tr>\n",
       "      <th>158</th>\n",
       "      <td>(22577)</td>\n",
       "      <td>(22578)</td>\n",
       "      <td>0.028539</td>\n",
       "      <td>0.026784</td>\n",
       "      <td>0.020612</td>\n",
       "      <td>0.722222</td>\n",
       "      <td>26.964999</td>\n",
       "      <td>0.019847</td>\n",
       "      <td>3.503579</td>\n",
       "      <td>0.991203</td>\n",
       "    </tr>\n",
       "    <tr>\n",
       "      <th>159</th>\n",
       "      <td>(22578)</td>\n",
       "      <td>(22577)</td>\n",
       "      <td>0.026784</td>\n",
       "      <td>0.028539</td>\n",
       "      <td>0.020612</td>\n",
       "      <td>0.769556</td>\n",
       "      <td>26.964999</td>\n",
       "      <td>0.019847</td>\n",
       "      <td>4.215606</td>\n",
       "      <td>0.989415</td>\n",
       "    </tr>\n",
       "    <tr>\n",
       "      <th>233</th>\n",
       "      <td>(22698)</td>\n",
       "      <td>(22697, 22699)</td>\n",
       "      <td>0.039694</td>\n",
       "      <td>0.039524</td>\n",
       "      <td>0.027746</td>\n",
       "      <td>0.699001</td>\n",
       "      <td>17.685337</td>\n",
       "      <td>0.026177</td>\n",
       "      <td>3.190964</td>\n",
       "      <td>0.982454</td>\n",
       "    </tr>\n",
       "    <tr>\n",
       "      <th>228</th>\n",
       "      <td>(22697, 22699)</td>\n",
       "      <td>(22698)</td>\n",
       "      <td>0.039524</td>\n",
       "      <td>0.039694</td>\n",
       "      <td>0.027746</td>\n",
       "      <td>0.702006</td>\n",
       "      <td>17.685337</td>\n",
       "      <td>0.026177</td>\n",
       "      <td>3.222565</td>\n",
       "      <td>0.982280</td>\n",
       "    </tr>\n",
       "    <tr>\n",
       "      <th>231</th>\n",
       "      <td>(22697)</td>\n",
       "      <td>(22698, 22699)</td>\n",
       "      <td>0.052718</td>\n",
       "      <td>0.030747</td>\n",
       "      <td>0.027746</td>\n",
       "      <td>0.526316</td>\n",
       "      <td>17.117379</td>\n",
       "      <td>0.026125</td>\n",
       "      <td>2.046200</td>\n",
       "      <td>0.993981</td>\n",
       "    </tr>\n",
       "  </tbody>\n",
       "</table>\n",
       "</div>"
      ],
      "text/plain": [
       "        antecedents     consequents  antecedent support  consequent support  \\\n",
       "158         (22577)         (22578)            0.028539            0.026784   \n",
       "159         (22578)         (22577)            0.026784            0.028539   \n",
       "233         (22698)  (22697, 22699)            0.039694            0.039524   \n",
       "228  (22697, 22699)         (22698)            0.039524            0.039694   \n",
       "231         (22697)  (22698, 22699)            0.052718            0.030747   \n",
       "\n",
       "      support  confidence       lift  leverage  conviction  zhangs_metric  \n",
       "158  0.020612    0.722222  26.964999  0.019847    3.503579       0.991203  \n",
       "159  0.020612    0.769556  26.964999  0.019847    4.215606       0.989415  \n",
       "233  0.027746    0.699001  17.685337  0.026177    3.190964       0.982454  \n",
       "228  0.027746    0.702006  17.685337  0.026177    3.222565       0.982280  \n",
       "231  0.027746    0.526316  17.117379  0.026125    2.046200       0.993981  "
      ]
     },
     "execution_count": 112,
     "metadata": {},
     "output_type": "execute_result"
    }
   ],
   "source": [
    "from mlxtend.frequent_patterns import association_rules\n",
    "\n",
    "uk_association_rules = association_rules(uk_frequent_itemsets, metric=\"confidence\", min_threshold=0.2, support_only=False)\n",
    "uk_association_rules = uk_association_rules[uk_association_rules['lift'] > 1.2].sort_values(by=['lift'], ascending=False)\n",
    "uk_association_rules.head()\n"
   ]
  },
  {
   "cell_type": "code",
   "execution_count": 114,
   "metadata": {},
   "outputs": [
    {
     "data": {
      "text/html": [
       "<div>\n",
       "<style scoped>\n",
       "    .dataframe tbody tr th:only-of-type {\n",
       "        vertical-align: middle;\n",
       "    }\n",
       "\n",
       "    .dataframe tbody tr th {\n",
       "        vertical-align: top;\n",
       "    }\n",
       "\n",
       "    .dataframe thead th {\n",
       "        text-align: right;\n",
       "    }\n",
       "</style>\n",
       "<table border=\"1\" class=\"dataframe\">\n",
       "  <thead>\n",
       "    <tr style=\"text-align: right;\">\n",
       "      <th></th>\n",
       "      <th>antecedents</th>\n",
       "      <th>consequents</th>\n",
       "      <th>antecedent support</th>\n",
       "      <th>consequent support</th>\n",
       "      <th>support</th>\n",
       "      <th>confidence</th>\n",
       "      <th>lift</th>\n",
       "      <th>leverage</th>\n",
       "      <th>conviction</th>\n",
       "      <th>zhangs_metric</th>\n",
       "    </tr>\n",
       "  </thead>\n",
       "  <tbody>\n",
       "    <tr>\n",
       "      <th>97</th>\n",
       "      <td>(22577)</td>\n",
       "      <td>(22578)</td>\n",
       "      <td>0.028539</td>\n",
       "      <td>0.026784</td>\n",
       "      <td>0.020612</td>\n",
       "      <td>0.722222</td>\n",
       "      <td>26.964999</td>\n",
       "      <td>0.019847</td>\n",
       "      <td>3.503579</td>\n",
       "      <td>0.991203</td>\n",
       "    </tr>\n",
       "    <tr>\n",
       "      <th>98</th>\n",
       "      <td>(22578)</td>\n",
       "      <td>(22577)</td>\n",
       "      <td>0.026784</td>\n",
       "      <td>0.028539</td>\n",
       "      <td>0.020612</td>\n",
       "      <td>0.769556</td>\n",
       "      <td>26.964999</td>\n",
       "      <td>0.019847</td>\n",
       "      <td>4.215606</td>\n",
       "      <td>0.989415</td>\n",
       "    </tr>\n",
       "    <tr>\n",
       "      <th>150</th>\n",
       "      <td>(22698)</td>\n",
       "      <td>(22697, 22699)</td>\n",
       "      <td>0.039694</td>\n",
       "      <td>0.039524</td>\n",
       "      <td>0.027746</td>\n",
       "      <td>0.699001</td>\n",
       "      <td>17.685337</td>\n",
       "      <td>0.026177</td>\n",
       "      <td>3.190964</td>\n",
       "      <td>0.982454</td>\n",
       "    </tr>\n",
       "    <tr>\n",
       "      <th>145</th>\n",
       "      <td>(22697, 22699)</td>\n",
       "      <td>(22698)</td>\n",
       "      <td>0.039524</td>\n",
       "      <td>0.039694</td>\n",
       "      <td>0.027746</td>\n",
       "      <td>0.702006</td>\n",
       "      <td>17.685337</td>\n",
       "      <td>0.026177</td>\n",
       "      <td>3.222565</td>\n",
       "      <td>0.982280</td>\n",
       "    </tr>\n",
       "    <tr>\n",
       "      <th>147</th>\n",
       "      <td>(22698, 22699)</td>\n",
       "      <td>(22697)</td>\n",
       "      <td>0.030747</td>\n",
       "      <td>0.052718</td>\n",
       "      <td>0.027746</td>\n",
       "      <td>0.902394</td>\n",
       "      <td>17.117379</td>\n",
       "      <td>0.026125</td>\n",
       "      <td>9.705172</td>\n",
       "      <td>0.971449</td>\n",
       "    </tr>\n",
       "  </tbody>\n",
       "</table>\n",
       "</div>"
      ],
      "text/plain": [
       "        antecedents     consequents  antecedent support  consequent support  \\\n",
       "97          (22577)         (22578)            0.028539            0.026784   \n",
       "98          (22578)         (22577)            0.026784            0.028539   \n",
       "150         (22698)  (22697, 22699)            0.039694            0.039524   \n",
       "145  (22697, 22699)         (22698)            0.039524            0.039694   \n",
       "147  (22698, 22699)         (22697)            0.030747            0.052718   \n",
       "\n",
       "      support  confidence       lift  leverage  conviction  zhangs_metric  \n",
       "97   0.020612    0.722222  26.964999  0.019847    3.503579       0.991203  \n",
       "98   0.020612    0.769556  26.964999  0.019847    4.215606       0.989415  \n",
       "150  0.027746    0.699001  17.685337  0.026177    3.190964       0.982454  \n",
       "145  0.027746    0.702006  17.685337  0.026177    3.222565       0.982280  \n",
       "147  0.027746    0.902394  17.117379  0.026125    9.705172       0.971449  "
      ]
     },
     "execution_count": 114,
     "metadata": {},
     "output_type": "execute_result"
    }
   ],
   "source": [
    "de_association_rules = association_rules(uk_frequent_itemsets, metric=\"confidence\", min_threshold=0.4, support_only=False)\n",
    "de_association_rules = de_association_rules[de_association_rules['lift'] > 1.2].sort_values(by=['lift'], ascending=False)\n",
    "de_association_rules.head()"
   ]
  },
  {
   "cell_type": "code",
   "execution_count": 115,
   "metadata": {},
   "outputs": [
    {
     "data": {
      "text/html": [
       "<div>\n",
       "<style scoped>\n",
       "    .dataframe tbody tr th:only-of-type {\n",
       "        vertical-align: middle;\n",
       "    }\n",
       "\n",
       "    .dataframe tbody tr th {\n",
       "        vertical-align: top;\n",
       "    }\n",
       "\n",
       "    .dataframe thead th {\n",
       "        text-align: right;\n",
       "    }\n",
       "</style>\n",
       "<table border=\"1\" class=\"dataframe\">\n",
       "  <thead>\n",
       "    <tr style=\"text-align: right;\">\n",
       "      <th></th>\n",
       "      <th>antecedents</th>\n",
       "      <th>consequents</th>\n",
       "      <th>antecedent support</th>\n",
       "      <th>consequent support</th>\n",
       "      <th>support</th>\n",
       "      <th>confidence</th>\n",
       "      <th>lift</th>\n",
       "      <th>leverage</th>\n",
       "      <th>conviction</th>\n",
       "      <th>zhangs_metric</th>\n",
       "    </tr>\n",
       "  </thead>\n",
       "  <tbody>\n",
       "    <tr>\n",
       "      <th>97</th>\n",
       "      <td>(22577)</td>\n",
       "      <td>(22578)</td>\n",
       "      <td>0.028539</td>\n",
       "      <td>0.026784</td>\n",
       "      <td>0.020612</td>\n",
       "      <td>0.722222</td>\n",
       "      <td>26.964999</td>\n",
       "      <td>0.019847</td>\n",
       "      <td>3.503579</td>\n",
       "      <td>0.991203</td>\n",
       "    </tr>\n",
       "    <tr>\n",
       "      <th>98</th>\n",
       "      <td>(22578)</td>\n",
       "      <td>(22577)</td>\n",
       "      <td>0.026784</td>\n",
       "      <td>0.028539</td>\n",
       "      <td>0.020612</td>\n",
       "      <td>0.769556</td>\n",
       "      <td>26.964999</td>\n",
       "      <td>0.019847</td>\n",
       "      <td>4.215606</td>\n",
       "      <td>0.989415</td>\n",
       "    </tr>\n",
       "    <tr>\n",
       "      <th>150</th>\n",
       "      <td>(22698)</td>\n",
       "      <td>(22697, 22699)</td>\n",
       "      <td>0.039694</td>\n",
       "      <td>0.039524</td>\n",
       "      <td>0.027746</td>\n",
       "      <td>0.699001</td>\n",
       "      <td>17.685337</td>\n",
       "      <td>0.026177</td>\n",
       "      <td>3.190964</td>\n",
       "      <td>0.982454</td>\n",
       "    </tr>\n",
       "    <tr>\n",
       "      <th>145</th>\n",
       "      <td>(22697, 22699)</td>\n",
       "      <td>(22698)</td>\n",
       "      <td>0.039524</td>\n",
       "      <td>0.039694</td>\n",
       "      <td>0.027746</td>\n",
       "      <td>0.702006</td>\n",
       "      <td>17.685337</td>\n",
       "      <td>0.026177</td>\n",
       "      <td>3.222565</td>\n",
       "      <td>0.982280</td>\n",
       "    </tr>\n",
       "    <tr>\n",
       "      <th>147</th>\n",
       "      <td>(22698, 22699)</td>\n",
       "      <td>(22697)</td>\n",
       "      <td>0.030747</td>\n",
       "      <td>0.052718</td>\n",
       "      <td>0.027746</td>\n",
       "      <td>0.902394</td>\n",
       "      <td>17.117379</td>\n",
       "      <td>0.026125</td>\n",
       "      <td>9.705172</td>\n",
       "      <td>0.971449</td>\n",
       "    </tr>\n",
       "  </tbody>\n",
       "</table>\n",
       "</div>"
      ],
      "text/plain": [
       "        antecedents     consequents  antecedent support  consequent support  \\\n",
       "97          (22577)         (22578)            0.028539            0.026784   \n",
       "98          (22578)         (22577)            0.026784            0.028539   \n",
       "150         (22698)  (22697, 22699)            0.039694            0.039524   \n",
       "145  (22697, 22699)         (22698)            0.039524            0.039694   \n",
       "147  (22698, 22699)         (22697)            0.030747            0.052718   \n",
       "\n",
       "      support  confidence       lift  leverage  conviction  zhangs_metric  \n",
       "97   0.020612    0.722222  26.964999  0.019847    3.503579       0.991203  \n",
       "98   0.020612    0.769556  26.964999  0.019847    4.215606       0.989415  \n",
       "150  0.027746    0.699001  17.685337  0.026177    3.190964       0.982454  \n",
       "145  0.027746    0.702006  17.685337  0.026177    3.222565       0.982280  \n",
       "147  0.027746    0.902394  17.117379  0.026125    9.705172       0.971449  "
      ]
     },
     "execution_count": 115,
     "metadata": {},
     "output_type": "execute_result"
    }
   ],
   "source": [
    "fr_association_rules = association_rules(uk_frequent_itemsets, metric=\"confidence\", min_threshold=0.4, support_only=False)\n",
    "fr_association_rules = fr_association_rules[fr_association_rules['lift'] > 1.2].sort_values(by=['lift'], ascending=False)\n",
    "fr_association_rules.head()"
   ]
  }
 ],
 "metadata": {
  "kernelspec": {
   "display_name": "base",
   "language": "python",
   "name": "python3"
  },
  "language_info": {
   "codemirror_mode": {
    "name": "ipython",
    "version": 3
   },
   "file_extension": ".py",
   "mimetype": "text/x-python",
   "name": "python",
   "nbconvert_exporter": "python",
   "pygments_lexer": "ipython3",
   "version": "3.10.9"
  },
  "orig_nbformat": 4
 },
 "nbformat": 4,
 "nbformat_minor": 2
}
