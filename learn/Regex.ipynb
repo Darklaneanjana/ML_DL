{
  "nbformat": 4,
  "nbformat_minor": 0,
  "metadata": {
    "colab": {
      "name": "Regex.ipynb",
      "provenance": [],
      "collapsed_sections": []
    },
    "kernelspec": {
      "name": "python3",
      "display_name": "Python 3"
    },
    "language_info": {
      "name": "python"
    }
  },
  "cells": [
    {
      "cell_type": "code",
      "execution_count": 1,
      "metadata": {
        "id": "7qpbUcdGoaGb"
      },
      "outputs": [],
      "source": [
        "import re"
      ]
    },
    {
      "cell_type": "code",
      "source": [
        "chat3='My order 412889912 is having an issue, I was charged 300$ when online it says 280$ I have a problem with my order number 412889912 Hello, I am having an issue with my order # 412889912'\n",
        "chat4 = 'you ask lot of questions 😠  1235678912, abc@xyz.com codebasics: here it is: (123)-567-8912, abc@xyz.com codebasics: yes, phone: 1235678912 email: abc@xyz.com'\n",
        "text='''\n",
        "Born\tElon Reeve Musk\n",
        "June 28, 1971 (age 50)\n",
        "Pretoria, Transvaal, South Africa\n",
        "Citizenship\t\n",
        "South Africa (1971–present)\n",
        "Canada (1971–present)\n",
        "United States (2002–present)\n",
        "Education\tUniversity of Pennsylvania (BS, BA)\n",
        "Title\t\n",
        "Founder, CEO and Chief Engineer of SpaceX\n",
        "CEO and product architect of Tesla, Inc.\n",
        "Founder of The Boring Company and X.com (now part of PayPal)\n",
        "Co-founder of Neuralink, OpenAI, and Zip2\n",
        "Spouse(s)\t\n",
        "Justine Wilson\n",
        "​\n",
        "​(m. 2000; div. 2008)​\n",
        "Talulah Riley\n",
        "​\n",
        "​(m. 2010; div. 2012)​\n",
        "​\n",
        "​(m. 2013; div. 2016)\n",
        "'''"
      ],
      "metadata": {
        "id": "q6x-kbT_tlb5"
      },
      "execution_count": 40,
      "outputs": []
    },
    {
      "cell_type": "code",
      "source": [
        "#  . any character\n",
        "#  * 0 or more\n",
        "#  + one or more\n",
        "\n",
        "# re.search()\n",
        "# re.find()\n",
        "# re.findall()\n",
        "# (   )  place what you want to extract\n",
        "\n",
        "# ea?  ea  ee eee\n",
        "# \\.  .\n",
        "# .\\.  t.\n",
        "\n",
        "# \\w{4} abcd\n",
        "# \\w{4,5} abcd abcde\n",
        "\n",
        "# b[aiu]g\tbag,big\n",
        "# [fc]at\t\tfat, cat  \twill match if the string you are trying to match contains any of the a, b or c.\n",
        "# [a-z]\n",
        "# [2-6 ]\t\t2to6 words\n",
        "# t[a-z]*?e\tstop at first e\n",
        "# fav?o\t\tmay or may not have v\n",
        "# [0-9] \t\tsingle character\n",
        "\n",
        "# g i \n",
        "# run|fun\trun,fun\n",
        "# .un\t\tfun,run\n",
        "\n",
        "# \\w \\W\t\tevery word\n",
        "# \\d \\D\t\tdigits\n",
        "# \\s \\S \t\twhite space\n",
        "# s+\t\ts ss sss\n",
        "# so*\t\ts so soo\n",
        "\n",
        "# ^a...s$ \t\tany five letter string starting with a and ending with s.\n",
        "# c$\t\tend\n",
        "\n",
        "# [^0-9aeiou]\n",
        "# ^[a-zA-z]{2,}\\d*$\n",
        "# ^(\\d+)\\s\\1\\s\\1$"
      ],
      "metadata": {
        "id": "5wISKo-HFWwl"
      },
      "execution_count": 58,
      "outputs": []
    },
    {
      "cell_type": "code",
      "source": [
        "re.findall('\\d{10}|\\(\\d{3}\\)-\\d{3}-\\d{3}',chat4)"
      ],
      "metadata": {
        "colab": {
          "base_uri": "https://localhost:8080/"
        },
        "id": "NTVNrs0EtuqY",
        "outputId": "e12fc07f-be3b-49b7-a6df-e67781ca530c"
      },
      "execution_count": 8,
      "outputs": [
        {
          "output_type": "execute_result",
          "data": {
            "text/plain": [
              "['1235678912', '(123)-567-891', '1235678912']"
            ]
          },
          "metadata": {},
          "execution_count": 8
        }
      ]
    },
    {
      "cell_type": "code",
      "source": [
        "re.findall('[a-z0-9A-Z]*@[a-z]*\\.[a-zA-Z]*',chat4)"
      ],
      "metadata": {
        "colab": {
          "base_uri": "https://localhost:8080/"
        },
        "id": "VAV_s8JrzV1r",
        "outputId": "e95dc755-b8d9-4500-9855-4c940ae7a12d"
      },
      "execution_count": 25,
      "outputs": [
        {
          "output_type": "execute_result",
          "data": {
            "text/plain": [
              "['abc@xyz.com', 'abc@xyz.com', 'abc@xyz.com']"
            ]
          },
          "metadata": {},
          "execution_count": 25
        }
      ]
    },
    {
      "cell_type": "code",
      "source": [
        "re.findall('order[^\\d]*([\\d]*)',chat3)"
      ],
      "metadata": {
        "colab": {
          "base_uri": "https://localhost:8080/"
        },
        "id": "kV5T6ml145ww",
        "outputId": "c61ef274-e4a4-4039-cce2-660aca8db1d5"
      },
      "execution_count": 39,
      "outputs": [
        {
          "output_type": "execute_result",
          "data": {
            "text/plain": [
              "['412889912', '412889912', '412889912']"
            ]
          },
          "metadata": {},
          "execution_count": 39
        }
      ]
    },
    {
      "cell_type": "code",
      "source": [
        "re.findall('age (\\d+)',text)"
      ],
      "metadata": {
        "colab": {
          "base_uri": "https://localhost:8080/"
        },
        "id": "rIPvf82S9nS3",
        "outputId": "25dc6eb8-a6d8-4949-8095-976fb41ff1a9"
      },
      "execution_count": 42,
      "outputs": [
        {
          "output_type": "execute_result",
          "data": {
            "text/plain": [
              "['50']"
            ]
          },
          "metadata": {},
          "execution_count": 42
        }
      ]
    },
    {
      "cell_type": "code",
      "source": [
        "re.findall('Born(.*)\\n',text)"
      ],
      "metadata": {
        "colab": {
          "base_uri": "https://localhost:8080/"
        },
        "id": "PAhL6KRICuUb",
        "outputId": "25faa370-bb95-4126-e95c-08d5b3ecd88a"
      },
      "execution_count": 56,
      "outputs": [
        {
          "output_type": "execute_result",
          "data": {
            "text/plain": [
              "['\\tElon Reeve Musk']"
            ]
          },
          "metadata": {},
          "execution_count": 56
        }
      ]
    },
    {
      "cell_type": "code",
      "source": [
        "re.findall('Born.*\\n(.*) \\(',text)"
      ],
      "metadata": {
        "colab": {
          "base_uri": "https://localhost:8080/"
        },
        "id": "NuwPMSFXDLuP",
        "outputId": "2753c62c-01d2-4927-a5a6-c14ad881cae1"
      },
      "execution_count": 50,
      "outputs": [
        {
          "output_type": "execute_result",
          "data": {
            "text/plain": [
              "['June 28, 1971']"
            ]
          },
          "metadata": {},
          "execution_count": 50
        }
      ]
    },
    {
      "cell_type": "code",
      "source": [
        "re.findall('\\(age.*\\)\\n(.*)\\n',text)"
      ],
      "metadata": {
        "colab": {
          "base_uri": "https://localhost:8080/"
        },
        "id": "xo_EU-DgEHwm",
        "outputId": "f832c3e4-0378-4723-e4b3-afbdb288a749"
      },
      "execution_count": 55,
      "outputs": [
        {
          "output_type": "execute_result",
          "data": {
            "text/plain": [
              "['Pretoria, Transvaal, South Africa']"
            ]
          },
          "metadata": {},
          "execution_count": 55
        }
      ]
    }
  ]
}