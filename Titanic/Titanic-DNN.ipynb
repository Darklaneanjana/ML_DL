{
 "cells": [
  {
   "cell_type": "code",
   "execution_count": 1009,
   "metadata": {},
   "outputs": [
    {
     "name": "stdout",
     "output_type": "stream",
     "text": [
      "Skipping, found downloaded files in \".\\titanic\" (use force=True to force download)\n"
     ]
    }
   ],
   "source": [
    "import opendatasets as od\n",
    "import pandas\n",
    " \n",
    "od.download('https://www.kaggle.com/competitions/titanic/data')"
   ]
  },
  {
   "cell_type": "code",
   "execution_count": 1010,
   "metadata": {},
   "outputs": [],
   "source": [
    "import tensorflow as tf\n",
    "from tensorflow import keras\n",
    "from tensorflow.keras import layers\n",
    "\n",
    "\n",
    "\n",
    "import numpy as np\n",
    "import pandas as pd\n"
   ]
  },
  {
   "cell_type": "code",
   "execution_count": 1011,
   "metadata": {},
   "outputs": [],
   "source": [
    "train_data = pd.read_csv('Titanic/train.csv')\n",
    "test_data = pd.read_csv('Titanic/test.csv')\n",
    "gender_submission = pd.read_csv('Titanic/gender_submission.csv')"
   ]
  },
  {
   "cell_type": "code",
   "execution_count": 1012,
   "metadata": {},
   "outputs": [
    {
     "name": "stdout",
     "output_type": "stream",
     "text": [
      "<class 'pandas.core.frame.DataFrame'>\n",
      "RangeIndex: 891 entries, 0 to 890\n",
      "Data columns (total 12 columns):\n",
      " #   Column       Non-Null Count  Dtype  \n",
      "---  ------       --------------  -----  \n",
      " 0   PassengerId  891 non-null    int64  \n",
      " 1   Survived     891 non-null    int64  \n",
      " 2   Pclass       891 non-null    int64  \n",
      " 3   Name         891 non-null    object \n",
      " 4   Sex          891 non-null    object \n",
      " 5   Age          714 non-null    float64\n",
      " 6   SibSp        891 non-null    int64  \n",
      " 7   Parch        891 non-null    int64  \n",
      " 8   Ticket       891 non-null    object \n",
      " 9   Fare         891 non-null    float64\n",
      " 10  Cabin        204 non-null    object \n",
      " 11  Embarked     889 non-null    object \n",
      "dtypes: float64(2), int64(5), object(5)\n",
      "memory usage: 83.7+ KB\n"
     ]
    }
   ],
   "source": [
    "train_data.info()"
   ]
  },
  {
   "cell_type": "code",
   "execution_count": 1013,
   "metadata": {},
   "outputs": [
    {
     "data": {
      "text/plain": [
       "PassengerId    891\n",
       "Survived         2\n",
       "Pclass           3\n",
       "Name           891\n",
       "Sex              2\n",
       "Age             88\n",
       "SibSp            7\n",
       "Parch            7\n",
       "Ticket         681\n",
       "Fare           248\n",
       "Cabin          147\n",
       "Embarked         3\n",
       "dtype: int64"
      ]
     },
     "execution_count": 1013,
     "metadata": {},
     "output_type": "execute_result"
    }
   ],
   "source": [
    "train_data.nunique()"
   ]
  },
  {
   "cell_type": "code",
   "execution_count": 1014,
   "metadata": {},
   "outputs": [
    {
     "data": {
      "text/plain": [
       "PassengerId      0\n",
       "Survived         0\n",
       "Pclass           0\n",
       "Name             0\n",
       "Sex              0\n",
       "Age            177\n",
       "SibSp            0\n",
       "Parch            0\n",
       "Ticket           0\n",
       "Fare             0\n",
       "Cabin          687\n",
       "Embarked         2\n",
       "dtype: int64"
      ]
     },
     "execution_count": 1014,
     "metadata": {},
     "output_type": "execute_result"
    }
   ],
   "source": [
    "train_data.isna().sum()"
   ]
  },
  {
   "cell_type": "code",
   "execution_count": 1015,
   "metadata": {},
   "outputs": [],
   "source": [
    "train_data['Embarked'].fillna(value='S', inplace=True)\n",
    "train_data['Age'].fillna(value=train_data['Age'].mean(), inplace=True)"
   ]
  },
  {
   "cell_type": "code",
   "execution_count": 1016,
   "metadata": {},
   "outputs": [
    {
     "data": {
      "text/html": [
       "<div>\n",
       "<style scoped>\n",
       "    .dataframe tbody tr th:only-of-type {\n",
       "        vertical-align: middle;\n",
       "    }\n",
       "\n",
       "    .dataframe tbody tr th {\n",
       "        vertical-align: top;\n",
       "    }\n",
       "\n",
       "    .dataframe thead th {\n",
       "        text-align: right;\n",
       "    }\n",
       "</style>\n",
       "<table border=\"1\" class=\"dataframe\">\n",
       "  <thead>\n",
       "    <tr style=\"text-align: right;\">\n",
       "      <th></th>\n",
       "      <th>PassengerId</th>\n",
       "      <th>Survived</th>\n",
       "      <th>Pclass</th>\n",
       "      <th>Name</th>\n",
       "      <th>Sex</th>\n",
       "      <th>Age</th>\n",
       "      <th>SibSp</th>\n",
       "      <th>Parch</th>\n",
       "      <th>Ticket</th>\n",
       "      <th>Fare</th>\n",
       "      <th>Cabin</th>\n",
       "      <th>Embarked</th>\n",
       "    </tr>\n",
       "  </thead>\n",
       "  <tbody>\n",
       "    <tr>\n",
       "      <th>0</th>\n",
       "      <td>1</td>\n",
       "      <td>0</td>\n",
       "      <td>3</td>\n",
       "      <td>Braund, Mr. Owen Harris</td>\n",
       "      <td>male</td>\n",
       "      <td>22.0</td>\n",
       "      <td>1</td>\n",
       "      <td>0</td>\n",
       "      <td>A/5 21171</td>\n",
       "      <td>7.2500</td>\n",
       "      <td>NaN</td>\n",
       "      <td>S</td>\n",
       "    </tr>\n",
       "    <tr>\n",
       "      <th>1</th>\n",
       "      <td>2</td>\n",
       "      <td>1</td>\n",
       "      <td>1</td>\n",
       "      <td>Cumings, Mrs. John Bradley (Florence Briggs Th...</td>\n",
       "      <td>female</td>\n",
       "      <td>38.0</td>\n",
       "      <td>1</td>\n",
       "      <td>0</td>\n",
       "      <td>PC 17599</td>\n",
       "      <td>71.2833</td>\n",
       "      <td>C85</td>\n",
       "      <td>C</td>\n",
       "    </tr>\n",
       "    <tr>\n",
       "      <th>2</th>\n",
       "      <td>3</td>\n",
       "      <td>1</td>\n",
       "      <td>3</td>\n",
       "      <td>Heikkinen, Miss. Laina</td>\n",
       "      <td>female</td>\n",
       "      <td>26.0</td>\n",
       "      <td>0</td>\n",
       "      <td>0</td>\n",
       "      <td>STON/O2. 3101282</td>\n",
       "      <td>7.9250</td>\n",
       "      <td>NaN</td>\n",
       "      <td>S</td>\n",
       "    </tr>\n",
       "    <tr>\n",
       "      <th>3</th>\n",
       "      <td>4</td>\n",
       "      <td>1</td>\n",
       "      <td>1</td>\n",
       "      <td>Futrelle, Mrs. Jacques Heath (Lily May Peel)</td>\n",
       "      <td>female</td>\n",
       "      <td>35.0</td>\n",
       "      <td>1</td>\n",
       "      <td>0</td>\n",
       "      <td>113803</td>\n",
       "      <td>53.1000</td>\n",
       "      <td>C123</td>\n",
       "      <td>S</td>\n",
       "    </tr>\n",
       "    <tr>\n",
       "      <th>4</th>\n",
       "      <td>5</td>\n",
       "      <td>0</td>\n",
       "      <td>3</td>\n",
       "      <td>Allen, Mr. William Henry</td>\n",
       "      <td>male</td>\n",
       "      <td>35.0</td>\n",
       "      <td>0</td>\n",
       "      <td>0</td>\n",
       "      <td>373450</td>\n",
       "      <td>8.0500</td>\n",
       "      <td>NaN</td>\n",
       "      <td>S</td>\n",
       "    </tr>\n",
       "  </tbody>\n",
       "</table>\n",
       "</div>"
      ],
      "text/plain": [
       "   PassengerId  Survived  Pclass  \\\n",
       "0            1         0       3   \n",
       "1            2         1       1   \n",
       "2            3         1       3   \n",
       "3            4         1       1   \n",
       "4            5         0       3   \n",
       "\n",
       "                                                Name     Sex   Age  SibSp  \\\n",
       "0                            Braund, Mr. Owen Harris    male  22.0      1   \n",
       "1  Cumings, Mrs. John Bradley (Florence Briggs Th...  female  38.0      1   \n",
       "2                             Heikkinen, Miss. Laina  female  26.0      0   \n",
       "3       Futrelle, Mrs. Jacques Heath (Lily May Peel)  female  35.0      1   \n",
       "4                           Allen, Mr. William Henry    male  35.0      0   \n",
       "\n",
       "   Parch            Ticket     Fare Cabin Embarked  \n",
       "0      0         A/5 21171   7.2500   NaN        S  \n",
       "1      0          PC 17599  71.2833   C85        C  \n",
       "2      0  STON/O2. 3101282   7.9250   NaN        S  \n",
       "3      0            113803  53.1000  C123        S  \n",
       "4      0            373450   8.0500   NaN        S  "
      ]
     },
     "execution_count": 1016,
     "metadata": {},
     "output_type": "execute_result"
    }
   ],
   "source": [
    "train_data.head()"
   ]
  },
  {
   "cell_type": "code",
   "execution_count": 1017,
   "metadata": {},
   "outputs": [],
   "source": [
    "from sklearn import preprocessing\n",
    "le = preprocessing.LabelEncoder()\n",
    "\n",
    "train_data['Sex'] = le.fit_transform(train_data['Sex'])\n",
    "train_data['Embarked'] = le.fit_transform(train_data['Embarked'])\n",
    "\n",
    "test_data['Sex'] = le.fit_transform(test_data['Sex'])\n",
    "test_data['Embarked'] = le.fit_transform(test_data['Embarked'])"
   ]
  },
  {
   "cell_type": "code",
   "execution_count": 1018,
   "metadata": {},
   "outputs": [],
   "source": [
    "y_train = train_data['Survived']\n",
    "train_data = train_data.drop(['PassengerId','Name','Ticket','Cabin'],axis=1)\n",
    "test_data = test_data.drop(['PassengerId','Name','Ticket','Cabin'],axis=1)\n",
    "\n",
    "# test_data.dropna(inplace=True)\n",
    "# train_data.dropna(inplace=True)\n",
    "\n",
    "y_train = train_data['Survived']\n",
    "train_data = train_data.drop(['Survived'],axis=1)"
   ]
  },
  {
   "cell_type": "code",
   "execution_count": 1019,
   "metadata": {},
   "outputs": [],
   "source": [
    "# normalizing the data\n",
    "\n",
    "from sklearn.preprocessing import StandardScaler\n",
    "scaler = StandardScaler()\n",
    "scaler.fit(train_data)\n",
    "train_data = scaler.transform(train_data)\n",
    "test_data = scaler.transform(test_data)"
   ]
  },
  {
   "cell_type": "code",
   "execution_count": 1020,
   "metadata": {},
   "outputs": [],
   "source": [
    "from sklearn.model_selection import train_test_split\n",
    "X_train, X_test, y_train, y_test = train_test_split(train_data, y_train, test_size=0.3, random_state=42)"
   ]
  },
  {
   "cell_type": "code",
   "execution_count": 1021,
   "metadata": {},
   "outputs": [],
   "source": [
    "\n",
    "model = tf.keras.Sequential([\n",
    "    tf.keras.layers.Dense(150, activation='relu', input_shape = [7]),\n",
    "    tf.keras.layers.Dropout(0.4),\n",
    "    tf.keras.layers.Dense(350, activation='relu'),\n",
    "       tf.keras.layers.Dropout(0.15),\n",
    "    tf.keras.layers.Dense(300, activation='relu'),\n",
    "       tf.keras.layers.Dropout(0.15),\n",
    "    tf.keras.layers.Dense(300, activation='relu'),\n",
    "       tf.keras.layers.Dropout(0.15),\n",
    "    tf.keras.layers.Dense(150, activation='relu'),\n",
    "       tf.keras.layers.Dropout(0.4),\n",
    "   #  tf.keras.layers.Dense(150, activation='relu'),\n",
    "   #     tf.keras.layers.Dropout(0.6),\n",
    "    tf.keras.layers.Dense(1,activation='sigmoid')\n",
    "  ])"
   ]
  },
  {
   "cell_type": "code",
   "execution_count": 1022,
   "metadata": {},
   "outputs": [
    {
     "name": "stdout",
     "output_type": "stream",
     "text": [
      "Epoch 1/30\n"
     ]
    },
    {
     "name": "stderr",
     "output_type": "stream",
     "text": [
      "c:\\Program Files\\Python310\\lib\\site-packages\\keras\\backend.py:5673: UserWarning: \"`binary_crossentropy` received `from_logits=True`, but the `output` argument was produced by a Sigmoid activation and thus does not represent logits. Was this intended?\n",
      "  output, from_logits = _get_logits(\n"
     ]
    },
    {
     "name": "stdout",
     "output_type": "stream",
     "text": [
      "20/20 [==============================] - 1s 10ms/step - loss: 0.5905 - accuracy: 0.6774\n",
      "Epoch 2/30\n",
      "20/20 [==============================] - 0s 9ms/step - loss: 0.5131 - accuracy: 0.7897\n",
      "Epoch 3/30\n",
      "20/20 [==============================] - 0s 10ms/step - loss: 0.4469 - accuracy: 0.8106\n",
      "Epoch 4/30\n",
      "20/20 [==============================] - 0s 10ms/step - loss: 0.4288 - accuracy: 0.8283\n",
      "Epoch 5/30\n",
      "20/20 [==============================] - 0s 10ms/step - loss: 0.4329 - accuracy: 0.8283\n",
      "Epoch 6/30\n",
      "20/20 [==============================] - 0s 13ms/step - loss: 0.4287 - accuracy: 0.8250\n",
      "Epoch 7/30\n",
      "20/20 [==============================] - 0s 10ms/step - loss: 0.4474 - accuracy: 0.8202\n",
      "Epoch 8/30\n",
      "20/20 [==============================] - 0s 10ms/step - loss: 0.4173 - accuracy: 0.8315\n",
      "Epoch 9/30\n",
      "20/20 [==============================] - 0s 10ms/step - loss: 0.4143 - accuracy: 0.8331\n",
      "Epoch 10/30\n",
      "20/20 [==============================] - 0s 10ms/step - loss: 0.4077 - accuracy: 0.8395\n",
      "Epoch 11/30\n",
      "20/20 [==============================] - 0s 9ms/step - loss: 0.4163 - accuracy: 0.8411\n",
      "Epoch 12/30\n",
      "20/20 [==============================] - 0s 10ms/step - loss: 0.4052 - accuracy: 0.8315\n",
      "Epoch 13/30\n",
      "20/20 [==============================] - 0s 10ms/step - loss: 0.4096 - accuracy: 0.8427\n",
      "Epoch 14/30\n",
      "20/20 [==============================] - 0s 9ms/step - loss: 0.4349 - accuracy: 0.8154\n",
      "Epoch 15/30\n",
      "20/20 [==============================] - 0s 10ms/step - loss: 0.4092 - accuracy: 0.8283\n",
      "Epoch 16/30\n",
      "20/20 [==============================] - 0s 10ms/step - loss: 0.3972 - accuracy: 0.8443\n",
      "Epoch 17/30\n",
      "20/20 [==============================] - 0s 9ms/step - loss: 0.4148 - accuracy: 0.8299\n",
      "Epoch 18/30\n",
      "20/20 [==============================] - 0s 10ms/step - loss: 0.3886 - accuracy: 0.8459\n",
      "Epoch 19/30\n",
      "20/20 [==============================] - 0s 9ms/step - loss: 0.4005 - accuracy: 0.8347\n",
      "Epoch 20/30\n",
      "20/20 [==============================] - 0s 9ms/step - loss: 0.4020 - accuracy: 0.8443\n",
      "Epoch 21/30\n",
      "20/20 [==============================] - 0s 9ms/step - loss: 0.3915 - accuracy: 0.8491\n",
      "Epoch 22/30\n",
      "20/20 [==============================] - 0s 9ms/step - loss: 0.3929 - accuracy: 0.8491\n",
      "Epoch 23/30\n",
      "20/20 [==============================] - 0s 9ms/step - loss: 0.3932 - accuracy: 0.8379\n",
      "Epoch 24/30\n",
      "20/20 [==============================] - 0s 9ms/step - loss: 0.4047 - accuracy: 0.8363\n",
      "Epoch 25/30\n",
      "20/20 [==============================] - 0s 10ms/step - loss: 0.3806 - accuracy: 0.8395\n",
      "Epoch 26/30\n",
      "20/20 [==============================] - 0s 10ms/step - loss: 0.3936 - accuracy: 0.8315\n",
      "Epoch 27/30\n",
      "20/20 [==============================] - 0s 10ms/step - loss: 0.3822 - accuracy: 0.8427\n",
      "Epoch 28/30\n",
      "20/20 [==============================] - 0s 10ms/step - loss: 0.3923 - accuracy: 0.8395\n",
      "Epoch 29/30\n",
      "20/20 [==============================] - 0s 9ms/step - loss: 0.3975 - accuracy: 0.8379\n",
      "Epoch 30/30\n",
      "20/20 [==============================] - 0s 9ms/step - loss: 0.3850 - accuracy: 0.8299\n"
     ]
    },
    {
     "data": {
      "text/plain": [
       "<keras.callbacks.History at 0x1b84ed5db40>"
      ]
     },
     "execution_count": 1022,
     "metadata": {},
     "output_type": "execute_result"
    }
   ],
   "source": [
    "model.compile(loss=keras.losses.BinaryCrossentropy(from_logits=True), optimizer='adam', metrics=['accuracy'])\n",
    "model.fit(X_train,y_train,epochs=30)\n",
    "# model.fit(train_data,y_train,epochs=50)"
   ]
  },
  {
   "cell_type": "code",
   "execution_count": 1023,
   "metadata": {},
   "outputs": [
    {
     "name": "stdout",
     "output_type": "stream",
     "text": [
      "9/9 - 0s - loss: 0.4619 - accuracy: 0.8097 - 163ms/epoch - 18ms/step\n"
     ]
    }
   ],
   "source": [
    "predictions = model.evaluate(X_test, y_test, verbose=2)"
   ]
  },
  {
   "cell_type": "code",
   "execution_count": 1024,
   "metadata": {},
   "outputs": [
    {
     "name": "stdout",
     "output_type": "stream",
     "text": [
      "14/14 [==============================] - 0s 3ms/step\n"
     ]
    }
   ],
   "source": [
    "predictions = model.predict(test_data)"
   ]
  },
  {
   "cell_type": "code",
   "execution_count": 1025,
   "metadata": {},
   "outputs": [],
   "source": [
    "gender_submission['Survived'] = predictions.round().astype(int)"
   ]
  },
  {
   "cell_type": "code",
   "execution_count": 1026,
   "metadata": {},
   "outputs": [],
   "source": [
    "gender_submission.to_csv('Titanic/submission.csv',index=False)"
   ]
  }
 ],
 "metadata": {
  "kernelspec": {
   "display_name": "Python 3.10.8 64-bit",
   "language": "python",
   "name": "python3"
  },
  "language_info": {
   "codemirror_mode": {
    "name": "ipython",
    "version": 3
   },
   "file_extension": ".py",
   "mimetype": "text/x-python",
   "name": "python",
   "nbconvert_exporter": "python",
   "pygments_lexer": "ipython3",
   "version": "3.10.8"
  },
  "orig_nbformat": 4,
  "vscode": {
   "interpreter": {
    "hash": "26de051ba29f2982a8de78e945f0abaf191376122a1563185a90213a26c5da77"
   }
  }
 },
 "nbformat": 4,
 "nbformat_minor": 2
}
