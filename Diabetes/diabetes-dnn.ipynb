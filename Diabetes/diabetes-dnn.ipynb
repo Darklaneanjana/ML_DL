{
 "cells": [
  {
   "cell_type": "code",
   "execution_count": 184,
   "metadata": {},
   "outputs": [],
   "source": [
    "# import opendatasets as od\n",
    "# import pandas\n",
    " \n",
    "# od.download('https://www.kaggle.com/datasets/mathchi/diabetes-data-set')"
   ]
  },
  {
   "cell_type": "code",
   "execution_count": 185,
   "metadata": {},
   "outputs": [],
   "source": [
    "import tensorflow\n",
    "from tensorflow import keras\n",
    "from tensorflow.keras import layers\n",
    "import matplotlib.pyplot as plt\n",
    "import seaborn as sns\n",
    "\n",
    "import pandas as pd\n",
    "df = pd.read_csv('diabetes-data-set/diabetes.csv')"
   ]
  },
  {
   "cell_type": "code",
   "execution_count": 186,
   "metadata": {},
   "outputs": [
    {
     "data": {
      "text/html": [
       "<div>\n",
       "<style scoped>\n",
       "    .dataframe tbody tr th:only-of-type {\n",
       "        vertical-align: middle;\n",
       "    }\n",
       "\n",
       "    .dataframe tbody tr th {\n",
       "        vertical-align: top;\n",
       "    }\n",
       "\n",
       "    .dataframe thead th {\n",
       "        text-align: right;\n",
       "    }\n",
       "</style>\n",
       "<table border=\"1\" class=\"dataframe\">\n",
       "  <thead>\n",
       "    <tr style=\"text-align: right;\">\n",
       "      <th></th>\n",
       "      <th>Pregnancies</th>\n",
       "      <th>Glucose</th>\n",
       "      <th>BloodPressure</th>\n",
       "      <th>SkinThickness</th>\n",
       "      <th>Insulin</th>\n",
       "      <th>BMI</th>\n",
       "      <th>DiabetesPedigreeFunction</th>\n",
       "      <th>Age</th>\n",
       "      <th>Outcome</th>\n",
       "    </tr>\n",
       "  </thead>\n",
       "  <tbody>\n",
       "    <tr>\n",
       "      <th>0</th>\n",
       "      <td>6</td>\n",
       "      <td>148</td>\n",
       "      <td>72</td>\n",
       "      <td>35</td>\n",
       "      <td>0</td>\n",
       "      <td>33.6</td>\n",
       "      <td>0.627</td>\n",
       "      <td>50</td>\n",
       "      <td>1</td>\n",
       "    </tr>\n",
       "    <tr>\n",
       "      <th>1</th>\n",
       "      <td>1</td>\n",
       "      <td>85</td>\n",
       "      <td>66</td>\n",
       "      <td>29</td>\n",
       "      <td>0</td>\n",
       "      <td>26.6</td>\n",
       "      <td>0.351</td>\n",
       "      <td>31</td>\n",
       "      <td>0</td>\n",
       "    </tr>\n",
       "    <tr>\n",
       "      <th>2</th>\n",
       "      <td>8</td>\n",
       "      <td>183</td>\n",
       "      <td>64</td>\n",
       "      <td>0</td>\n",
       "      <td>0</td>\n",
       "      <td>23.3</td>\n",
       "      <td>0.672</td>\n",
       "      <td>32</td>\n",
       "      <td>1</td>\n",
       "    </tr>\n",
       "    <tr>\n",
       "      <th>3</th>\n",
       "      <td>1</td>\n",
       "      <td>89</td>\n",
       "      <td>66</td>\n",
       "      <td>23</td>\n",
       "      <td>94</td>\n",
       "      <td>28.1</td>\n",
       "      <td>0.167</td>\n",
       "      <td>21</td>\n",
       "      <td>0</td>\n",
       "    </tr>\n",
       "    <tr>\n",
       "      <th>4</th>\n",
       "      <td>0</td>\n",
       "      <td>137</td>\n",
       "      <td>40</td>\n",
       "      <td>35</td>\n",
       "      <td>168</td>\n",
       "      <td>43.1</td>\n",
       "      <td>2.288</td>\n",
       "      <td>33</td>\n",
       "      <td>1</td>\n",
       "    </tr>\n",
       "  </tbody>\n",
       "</table>\n",
       "</div>"
      ],
      "text/plain": [
       "   Pregnancies  Glucose  BloodPressure  SkinThickness  Insulin   BMI  \\\n",
       "0            6      148             72             35        0  33.6   \n",
       "1            1       85             66             29        0  26.6   \n",
       "2            8      183             64              0        0  23.3   \n",
       "3            1       89             66             23       94  28.1   \n",
       "4            0      137             40             35      168  43.1   \n",
       "\n",
       "   DiabetesPedigreeFunction  Age  Outcome  \n",
       "0                     0.627   50        1  \n",
       "1                     0.351   31        0  \n",
       "2                     0.672   32        1  \n",
       "3                     0.167   21        0  \n",
       "4                     2.288   33        1  "
      ]
     },
     "execution_count": 186,
     "metadata": {},
     "output_type": "execute_result"
    }
   ],
   "source": [
    "df.head()"
   ]
  },
  {
   "cell_type": "code",
   "execution_count": 187,
   "metadata": {},
   "outputs": [],
   "source": [
    "x = df.drop('Outcome', axis=1)\n",
    "y = df['Outcome']"
   ]
  },
  {
   "cell_type": "code",
   "execution_count": 188,
   "metadata": {},
   "outputs": [],
   "source": [
    "from sklearn.model_selection import train_test_split\n",
    "x_train, x_test, y_train, y_test = train_test_split(x,y,test_size = 0.2)"
   ]
  },
  {
   "cell_type": "code",
   "execution_count": 189,
   "metadata": {},
   "outputs": [],
   "source": [
    "from sklearn.preprocessing import StandardScaler\n",
    "sc = StandardScaler()\n",
    "x_train = sc.fit_transform(x_train)\n",
    "x_test = sc.transform(x_test)"
   ]
  },
  {
   "cell_type": "code",
   "execution_count": 190,
   "metadata": {},
   "outputs": [],
   "source": [
    "model = keras.Sequential([\n",
    "    layers.Dense(24,activation = 'relu', input_shape = [8]),\n",
    "    layers.Dense(16,activation = 'relu'),\n",
    "    layers.Dense(1,activation = 'sigmoid')\n",
    "])"
   ]
  },
  {
   "cell_type": "code",
   "execution_count": 191,
   "metadata": {},
   "outputs": [
    {
     "name": "stdout",
     "output_type": "stream",
     "text": [
      "Epoch 1/60\n",
      "20/20 [==============================] - 0s 6ms/step - loss: 0.6824 - accuracy: 0.5342\n",
      "Epoch 2/60\n",
      "20/20 [==============================] - 0s 6ms/step - loss: 0.6350 - accuracy: 0.6433\n",
      "Epoch 3/60\n",
      "20/20 [==============================] - 0s 7ms/step - loss: 0.5990 - accuracy: 0.6954\n",
      "Epoch 4/60\n",
      "20/20 [==============================] - 0s 6ms/step - loss: 0.5691 - accuracy: 0.7248\n",
      "Epoch 5/60\n",
      "20/20 [==============================] - 0s 6ms/step - loss: 0.5429 - accuracy: 0.7492\n",
      "Epoch 6/60\n",
      "20/20 [==============================] - 0s 6ms/step - loss: 0.5211 - accuracy: 0.7622\n",
      "Epoch 7/60\n",
      "20/20 [==============================] - 0s 6ms/step - loss: 0.5013 - accuracy: 0.7752\n",
      "Epoch 8/60\n",
      "20/20 [==============================] - 0s 10ms/step - loss: 0.4886 - accuracy: 0.7785\n",
      "Epoch 9/60\n",
      "20/20 [==============================] - 0s 8ms/step - loss: 0.4766 - accuracy: 0.7883\n",
      "Epoch 10/60\n",
      "20/20 [==============================] - 0s 12ms/step - loss: 0.4680 - accuracy: 0.7866\n",
      "Epoch 11/60\n",
      "20/20 [==============================] - 0s 11ms/step - loss: 0.4624 - accuracy: 0.7850\n",
      "Epoch 12/60\n",
      "20/20 [==============================] - 0s 11ms/step - loss: 0.4579 - accuracy: 0.7850\n",
      "Epoch 13/60\n",
      "20/20 [==============================] - 0s 12ms/step - loss: 0.4555 - accuracy: 0.7915\n",
      "Epoch 14/60\n",
      "20/20 [==============================] - 0s 13ms/step - loss: 0.4499 - accuracy: 0.7932\n",
      "Epoch 15/60\n",
      "20/20 [==============================] - 0s 13ms/step - loss: 0.4480 - accuracy: 0.7899\n",
      "Epoch 16/60\n",
      "20/20 [==============================] - 0s 13ms/step - loss: 0.4456 - accuracy: 0.7980\n",
      "Epoch 17/60\n",
      "20/20 [==============================] - 0s 11ms/step - loss: 0.4438 - accuracy: 0.7899\n",
      "Epoch 18/60\n",
      "20/20 [==============================] - 0s 11ms/step - loss: 0.4421 - accuracy: 0.8013\n",
      "Epoch 19/60\n",
      "20/20 [==============================] - 0s 8ms/step - loss: 0.4397 - accuracy: 0.7899\n",
      "Epoch 20/60\n",
      "20/20 [==============================] - 0s 10ms/step - loss: 0.4376 - accuracy: 0.7899\n",
      "Epoch 21/60\n",
      "20/20 [==============================] - 0s 12ms/step - loss: 0.4353 - accuracy: 0.7915\n",
      "Epoch 22/60\n",
      "20/20 [==============================] - 0s 9ms/step - loss: 0.4343 - accuracy: 0.7899\n",
      "Epoch 23/60\n",
      "20/20 [==============================] - 0s 7ms/step - loss: 0.4322 - accuracy: 0.7915\n",
      "Epoch 24/60\n",
      "20/20 [==============================] - 0s 6ms/step - loss: 0.4311 - accuracy: 0.7915\n",
      "Epoch 25/60\n",
      "20/20 [==============================] - 0s 6ms/step - loss: 0.4297 - accuracy: 0.7948\n",
      "Epoch 26/60\n",
      "20/20 [==============================] - 0s 6ms/step - loss: 0.4280 - accuracy: 0.7915\n",
      "Epoch 27/60\n",
      "20/20 [==============================] - 0s 6ms/step - loss: 0.4271 - accuracy: 0.7932\n",
      "Epoch 28/60\n",
      "20/20 [==============================] - 0s 6ms/step - loss: 0.4260 - accuracy: 0.7948\n",
      "Epoch 29/60\n",
      "20/20 [==============================] - 0s 6ms/step - loss: 0.4251 - accuracy: 0.7932\n",
      "Epoch 30/60\n",
      "20/20 [==============================] - 0s 6ms/step - loss: 0.4241 - accuracy: 0.7915\n",
      "Epoch 31/60\n",
      "20/20 [==============================] - 0s 6ms/step - loss: 0.4224 - accuracy: 0.7948\n",
      "Epoch 32/60\n",
      "20/20 [==============================] - 0s 6ms/step - loss: 0.4219 - accuracy: 0.7997\n",
      "Epoch 33/60\n",
      "20/20 [==============================] - 0s 5ms/step - loss: 0.4205 - accuracy: 0.7948\n",
      "Epoch 34/60\n",
      "20/20 [==============================] - 0s 6ms/step - loss: 0.4210 - accuracy: 0.7948\n",
      "Epoch 35/60\n",
      "20/20 [==============================] - 0s 6ms/step - loss: 0.4180 - accuracy: 0.7997\n",
      "Epoch 36/60\n",
      "20/20 [==============================] - 0s 6ms/step - loss: 0.4172 - accuracy: 0.8029\n",
      "Epoch 37/60\n",
      "20/20 [==============================] - 0s 6ms/step - loss: 0.4168 - accuracy: 0.8013\n",
      "Epoch 38/60\n",
      "20/20 [==============================] - 0s 6ms/step - loss: 0.4149 - accuracy: 0.7997\n",
      "Epoch 39/60\n",
      "20/20 [==============================] - 0s 7ms/step - loss: 0.4150 - accuracy: 0.7964\n",
      "Epoch 40/60\n",
      "20/20 [==============================] - 0s 6ms/step - loss: 0.4129 - accuracy: 0.8046\n",
      "Epoch 41/60\n",
      "20/20 [==============================] - 0s 6ms/step - loss: 0.4127 - accuracy: 0.8013\n",
      "Epoch 42/60\n",
      "20/20 [==============================] - 0s 7ms/step - loss: 0.4114 - accuracy: 0.8013\n",
      "Epoch 43/60\n",
      "20/20 [==============================] - 0s 6ms/step - loss: 0.4112 - accuracy: 0.8062\n",
      "Epoch 44/60\n",
      "20/20 [==============================] - 0s 6ms/step - loss: 0.4096 - accuracy: 0.8046\n",
      "Epoch 45/60\n",
      "20/20 [==============================] - 0s 5ms/step - loss: 0.4084 - accuracy: 0.8029\n",
      "Epoch 46/60\n",
      "20/20 [==============================] - 0s 5ms/step - loss: 0.4076 - accuracy: 0.8062\n",
      "Epoch 47/60\n",
      "20/20 [==============================] - 0s 7ms/step - loss: 0.4071 - accuracy: 0.8078\n",
      "Epoch 48/60\n",
      "20/20 [==============================] - 0s 6ms/step - loss: 0.4060 - accuracy: 0.8078\n",
      "Epoch 49/60\n",
      "20/20 [==============================] - 0s 5ms/step - loss: 0.4061 - accuracy: 0.8078\n",
      "Epoch 50/60\n",
      "20/20 [==============================] - 0s 6ms/step - loss: 0.4051 - accuracy: 0.8062\n",
      "Epoch 51/60\n",
      "20/20 [==============================] - 0s 6ms/step - loss: 0.4036 - accuracy: 0.8094\n",
      "Epoch 52/60\n",
      "20/20 [==============================] - 0s 6ms/step - loss: 0.4027 - accuracy: 0.8094\n",
      "Epoch 53/60\n",
      "20/20 [==============================] - 0s 6ms/step - loss: 0.4017 - accuracy: 0.8062\n",
      "Epoch 54/60\n",
      "20/20 [==============================] - 0s 6ms/step - loss: 0.4015 - accuracy: 0.8078\n",
      "Epoch 55/60\n",
      "20/20 [==============================] - 0s 7ms/step - loss: 0.4008 - accuracy: 0.8094\n",
      "Epoch 56/60\n",
      "20/20 [==============================] - 0s 5ms/step - loss: 0.3994 - accuracy: 0.8111\n",
      "Epoch 57/60\n",
      "20/20 [==============================] - 0s 5ms/step - loss: 0.3998 - accuracy: 0.8127\n",
      "Epoch 58/60\n",
      "20/20 [==============================] - 0s 5ms/step - loss: 0.3987 - accuracy: 0.8078\n",
      "Epoch 59/60\n",
      "20/20 [==============================] - 0s 6ms/step - loss: 0.3973 - accuracy: 0.8094\n",
      "Epoch 60/60\n",
      "20/20 [==============================] - 0s 6ms/step - loss: 0.3960 - accuracy: 0.8046\n"
     ]
    },
    {
     "data": {
      "text/plain": [
       "<keras.callbacks.History at 0x285a80672e0>"
      ]
     },
     "execution_count": 191,
     "metadata": {},
     "output_type": "execute_result"
    }
   ],
   "source": [
    "callback = keras.callbacks.TensorBoard(log_dir = 'logs')\n",
    "\n",
    "model.compile(loss='binary_crossentropy', optimizer='adam', metrics=['accuracy'])\n",
    "model.fit(x_train,y_train,epochs=60, callbacks=[callback])"
   ]
  },
  {
   "cell_type": "code",
   "execution_count": 192,
   "metadata": {},
   "outputs": [
    {
     "name": "stdout",
     "output_type": "stream",
     "text": [
      "5/5 [==============================] - 0s 4ms/step - loss: 0.5311 - accuracy: 0.7532\n",
      "Accuracy: 75.32\n"
     ]
    }
   ],
   "source": [
    "a, accuracy = model.evaluate(x_test,y_test)\n",
    "print('Accuracy: %.2f' % (accuracy*100))"
   ]
  },
  {
   "cell_type": "code",
   "execution_count": 193,
   "metadata": {},
   "outputs": [],
   "source": [
    "import tensorboard\n"
   ]
  },
  {
   "cell_type": "code",
   "execution_count": null,
   "metadata": {},
   "outputs": [
    {
     "name": "stdout",
     "output_type": "stream",
     "text": [
      "5/5 [==============================] - 0s 25ms/step\n",
      "[[88 12]\n",
      " [21 33]]\n"
     ]
    },
    {
     "name": "stderr",
     "output_type": "stream",
     "text": [
      "c:\\Program Files\\Python310\\lib\\site-packages\\sklearn\\utils\\deprecation.py:87: FutureWarning: Function plot_confusion_matrix is deprecated; Function `plot_confusion_matrix` is deprecated in 1.0 and will be removed in 1.2. Use one of the class methods: ConfusionMatrixDisplay.from_predictions or ConfusionMatrixDisplay.from_estimator.\n",
      "  warnings.warn(msg, category=FutureWarning)\n"
     ]
    },
    {
     "ename": "ValueError",
     "evalue": "plot_confusion_matrix only supports classifiers",
     "output_type": "error",
     "traceback": [
      "\u001b[1;31m---------------------------------------------------------------------------\u001b[0m",
      "\u001b[1;31mValueError\u001b[0m                                Traceback (most recent call last)",
      "Cell \u001b[1;32mIn [169], line 21\u001b[0m\n\u001b[0;32m     12\u001b[0m \u001b[39mfrom\u001b[39;00m \u001b[39msklearn\u001b[39;00m\u001b[39m.\u001b[39;00m\u001b[39mmetrics\u001b[39;00m \u001b[39mimport\u001b[39;00m plot_confusion_matrix\n\u001b[0;32m     13\u001b[0m \u001b[39m# >>> from sklearn.model_selection import train_test_split\u001b[39;00m\n\u001b[0;32m     14\u001b[0m \u001b[39m# >>> from sklearn.svm import SVC\u001b[39;00m\n\u001b[0;32m     15\u001b[0m \u001b[39m# >>> X, y = make_classification(random_state=0)\u001b[39;00m\n\u001b[1;32m   (...)\u001b[0m\n\u001b[0;32m     19\u001b[0m \u001b[39m# >>> clf.fit(X_train, y_train)\u001b[39;00m\n\u001b[0;32m     20\u001b[0m \u001b[39m# SVC(random_state=0)\u001b[39;00m\n\u001b[1;32m---> 21\u001b[0m plot_confusion_matrix(model, x_test, y_test)  \n\u001b[0;32m     22\u001b[0m plt\u001b[39m.\u001b[39mshow()\n",
      "File \u001b[1;32mc:\\Program Files\\Python310\\lib\\site-packages\\sklearn\\utils\\deprecation.py:88\u001b[0m, in \u001b[0;36mdeprecated._decorate_fun.<locals>.wrapped\u001b[1;34m(*args, **kwargs)\u001b[0m\n\u001b[0;32m     85\u001b[0m \u001b[39m@functools\u001b[39m\u001b[39m.\u001b[39mwraps(fun)\n\u001b[0;32m     86\u001b[0m \u001b[39mdef\u001b[39;00m \u001b[39mwrapped\u001b[39m(\u001b[39m*\u001b[39margs, \u001b[39m*\u001b[39m\u001b[39m*\u001b[39mkwargs):\n\u001b[0;32m     87\u001b[0m     warnings\u001b[39m.\u001b[39mwarn(msg, category\u001b[39m=\u001b[39m\u001b[39mFutureWarning\u001b[39;00m)\n\u001b[1;32m---> 88\u001b[0m     \u001b[39mreturn\u001b[39;00m fun(\u001b[39m*\u001b[39margs, \u001b[39m*\u001b[39m\u001b[39m*\u001b[39mkwargs)\n",
      "File \u001b[1;32mc:\\Program Files\\Python310\\lib\\site-packages\\sklearn\\metrics\\_plot\\confusion_matrix.py:582\u001b[0m, in \u001b[0;36mplot_confusion_matrix\u001b[1;34m(estimator, X, y_true, labels, sample_weight, normalize, display_labels, include_values, xticks_rotation, values_format, cmap, ax, colorbar)\u001b[0m\n\u001b[0;32m    579\u001b[0m check_matplotlib_support(\u001b[39m\"\u001b[39m\u001b[39mplot_confusion_matrix\u001b[39m\u001b[39m\"\u001b[39m)\n\u001b[0;32m    581\u001b[0m \u001b[39mif\u001b[39;00m \u001b[39mnot\u001b[39;00m is_classifier(estimator):\n\u001b[1;32m--> 582\u001b[0m     \u001b[39mraise\u001b[39;00m \u001b[39mValueError\u001b[39;00m(\u001b[39m\"\u001b[39m\u001b[39mplot_confusion_matrix only supports classifiers\u001b[39m\u001b[39m\"\u001b[39m)\n\u001b[0;32m    584\u001b[0m y_pred \u001b[39m=\u001b[39m estimator\u001b[39m.\u001b[39mpredict(X)\n\u001b[0;32m    585\u001b[0m cm \u001b[39m=\u001b[39m confusion_matrix(\n\u001b[0;32m    586\u001b[0m     y_true, y_pred, sample_weight\u001b[39m=\u001b[39msample_weight, labels\u001b[39m=\u001b[39mlabels, normalize\u001b[39m=\u001b[39mnormalize\n\u001b[0;32m    587\u001b[0m )\n",
      "\u001b[1;31mValueError\u001b[0m: plot_confusion_matrix only supports classifiers"
     ]
    }
   ],
   "source": [
    "# confusion matrix\n",
    "\n",
    "y_pred = model.predict(x_test)\n",
    "y_pred = (y_pred > 0.5)\n",
    "\n",
    "from sklearn.metrics import confusion_matrix\n",
    "cm = confusion_matrix(y_test, y_pred)\n",
    "print(cm)\n"
   ]
  }
 ],
 "metadata": {
  "kernelspec": {
   "display_name": "Python 3.10.8 64-bit",
   "language": "python",
   "name": "python3"
  },
  "language_info": {
   "codemirror_mode": {
    "name": "ipython",
    "version": 3
   },
   "file_extension": ".py",
   "mimetype": "text/x-python",
   "name": "python",
   "nbconvert_exporter": "python",
   "pygments_lexer": "ipython3",
   "version": "3.10.8"
  },
  "orig_nbformat": 4,
  "vscode": {
   "interpreter": {
    "hash": "26de051ba29f2982a8de78e945f0abaf191376122a1563185a90213a26c5da77"
   }
  }
 },
 "nbformat": 4,
 "nbformat_minor": 2
}
