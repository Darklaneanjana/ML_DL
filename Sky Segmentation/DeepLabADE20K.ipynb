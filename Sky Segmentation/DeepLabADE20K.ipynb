{
  "cells": [
    {
      "cell_type": "markdown",
      "metadata": {
        "id": "KFPcBuVFw61h"
      },
      "source": [
        "# Overview\n",
        "\n",
        "This colab demonstrates the steps to use the DeepLab model to perform semantic segmentation on a sample input image. Expected outputs are semantic labels overlayed on the sample image.\n",
        "\n",
        "### About DeepLab\n",
        "The models used in this colab perform semantic segmentation. Semantic segmentation models focus on assigning semantic labels, such as sky, person, or car, to multiple objects and stuff in a single image."
      ]
    },
    {
      "cell_type": "markdown",
      "metadata": {
        "id": "t3ozFsEEP-u_"
      },
      "source": [
        "# Instructions\n",
        "<h3><a href=\"https://cloud.google.com/tpu/\"><img valign=\"middle\" src=\"https://raw.githubusercontent.com/GoogleCloudPlatform/tensorflow-without-a-phd/master/tensorflow-rl-pong/images/tpu-hexagon.png\" width=\"50\"></a>  &nbsp;&nbsp;Use a free TPU device</h3>\n",
        "\n",
        "   1. On the main menu, click Runtime and select **Change runtime type**. Set \"TPU\" as the hardware accelerator.\n",
        "   1. Click Runtime again and select **Runtime > Run All**. You can also run the cells manually with Shift-ENTER."
      ]
    },
    {
      "cell_type": "markdown",
      "metadata": {
        "id": "7cRiapZ1P3wy"
      },
      "source": [
        "## Import Libraries"
      ]
    },
    {
      "cell_type": "code",
      "execution_count": 1,
      "metadata": {
        "cellView": "code",
        "id": "kAbdmRmvq0Je"
      },
      "outputs": [],
      "source": [
        "import os\n",
        "from io import BytesIO\n",
        "import tarfile\n",
        "import tempfile\n",
        "from six.moves import urllib\n",
        "\n",
        "from matplotlib import gridspec\n",
        "from matplotlib import pyplot as plt\n",
        "import numpy as np\n",
        "from PIL import Image\n",
        "\n",
        "# %tensorflow_version 1.x\n",
        "import tensorflow as tf"
      ]
    },
    {
      "cell_type": "markdown",
      "metadata": {
        "id": "p47cYGGOQE1W"
      },
      "source": [
        "## Import helper methods\n",
        "These methods help us perform the following tasks:\n",
        "* Load the latest version of the pretrained DeepLab model\n",
        "* Load the colormap from the PASCAL VOC dataset\n",
        "* Adds colors to various labels, such as \"pink\" for people, \"green\" for bicycle and more\n",
        "* Visualize an image, and add an overlay of colors on various regions"
      ]
    },
    {
      "cell_type": "code",
      "execution_count": 2,
      "metadata": {
        "id": "ZCUpavLxlJjh"
      },
      "outputs": [],
      "source": [
        "class DeepLabModel(object):\n",
        "  \"\"\"Class to load deeplab model and run inference.\"\"\"\n",
        "\n",
        "  INPUT_TENSOR_NAME = 'ImageTensor:0'\n",
        "  OUTPUT_TENSOR_NAME = 'SemanticPredictions:0'\n",
        "  INPUT_SIZE = 513\n",
        "  FROZEN_GRAPH_NAME = 'frozen_inference_graph'\n",
        "\n",
        "  def __init__(self, tarball_path):\n",
        "    \"\"\"Creates and loads pretrained deeplab model.\"\"\"\n",
        "    self.graph = tf.Graph()\n",
        "\n",
        "    graph_def = None\n",
        "    # Extract frozen graph from tar archive.\n",
        "    tar_file = tarfile.open(tarball_path)\n",
        "    for tar_info in tar_file.getmembers():\n",
        "      if self.FROZEN_GRAPH_NAME in os.path.basename(tar_info.name):\n",
        "        file_handle = tar_file.extractfile(tar_info)\n",
        "        graph_def = tf.compat.v1.GraphDef.FromString(file_handle.read())\n",
        "        break\n",
        "\n",
        "    tar_file.close()\n",
        "\n",
        "    if graph_def is None:\n",
        "      raise RuntimeError('Cannot find inference graph in tar archive.')\n",
        "\n",
        "    with self.graph.as_default():\n",
        "      tf.import_graph_def(graph_def, name='')\n",
        "\n",
        "    self.sess = tf.compat.v1.Session(graph=self.graph)\n",
        "\n",
        "  def run(self, image):\n",
        "    \"\"\"Runs inference on a single image.\n",
        "\n",
        "    Args:\n",
        "      image: A PIL.Image object, raw input image.\n",
        "\n",
        "    Returns:\n",
        "      resized_image: RGB image resized from original input image.\n",
        "      seg_map: Segmentation map of `resized_image`.\n",
        "    \"\"\"\n",
        "    width, height = image.size\n",
        "    resize_ratio = 1.0 * self.INPUT_SIZE / max(width, height)\n",
        "    target_size = (int(resize_ratio * width), int(resize_ratio * height))\n",
        "    resized_image = image.convert('RGB').resize(target_size, Image.ANTIALIAS)\n",
        "    batch_seg_map = self.sess.run(\n",
        "        self.OUTPUT_TENSOR_NAME,\n",
        "        feed_dict={self.INPUT_TENSOR_NAME: [np.asarray(resized_image)]})\n",
        "    seg_map = batch_seg_map[0]\n",
        "    # return resized_image, seg_map\n",
        "\n",
        "\n",
        "    return resized_image, seg_map"
      ]
    },
    {
      "cell_type": "code",
      "execution_count": 3,
      "metadata": {
        "id": "LHVNdsNXzvqv"
      },
      "outputs": [],
      "source": [
        "def label_to_color_image(label):\n",
        "  \"\"\"Adds color defined by the dataset colormap to the label.\n",
        "\n",
        "  Args:\n",
        "    label: A 2D array with integer type, storing the segmentation label.\n",
        "\n",
        "  Returns:\n",
        "    result: A 2D array with floating type. The element of the array\n",
        "      is the color indexed by the corresponding element in the input label\n",
        "      to the PASCAL color map.\n",
        "\n",
        "  Raises:\n",
        "    ValueError: If label is not of rank 2 or its value is larger than color\n",
        "      map maximum entry.\n",
        "  \"\"\"\n",
        "  if label.ndim != 2:\n",
        "    raise ValueError('Expect 2-D input label')\n",
        "\n",
        "  colormap = create_pascal_label_colormap()\n",
        "\n",
        "  if np.max(label) >= len(colormap):\n",
        "    raise ValueError('label value too large.')\n",
        "\n",
        "  return colormap[label]"
      ]
    },
    {
      "cell_type": "code",
      "execution_count": 4,
      "metadata": {
        "cellView": "code",
        "colab": {
          "base_uri": "https://localhost:8080/"
        },
        "id": "vN0kU6NJ1Ye5",
        "outputId": "4d1c7da4-a442-4bc9-a437-630e92ee1cb8"
      },
      "outputs": [
        {
          "name": "stderr",
          "output_type": "stream",
          "text": [
            "  % Total    % Received % Xferd  Average Speed   Time    Time     Time  Current\n",
            "                                 Dload  Upload   Total   Spent    Left  Speed\n",
            "\n",
            "  0     0    0     0    0     0      0      0 --:--:-- --:--:-- --:--:--     0\n",
            "100  5803  100  5803    0     0   5891      0 --:--:-- --:--:-- --:--:--  5897\n",
            "100  5803  100  5803    0     0   5889      0 --:--:-- --:--:-- --:--:--  5897\n"
          ]
        }
      ],
      "source": [
        "!curl https://raw.githubusercontent.com/CSAILVision/sceneparsing/master/objectInfo150.csv --output 'objectInfo150.csv'\n",
        "import pandas as pd\n",
        "\n",
        "ade20k_labels_info = pd.read_csv('objectInfo150.csv')\n",
        "labels_list = list(ade20k_labels_info['Name'])\n",
        "ade20k_labels_info.head()\n",
        "labels_list.insert(0, 'others')\n",
        "len(labels_list)\n",
        "\n",
        "\n",
        "def create_pascal_label_colormap():\n",
        "  \"\"\"Creates a label colormap used in PASCAL VOC segmentation benchmark.\n",
        "\n",
        "  Returns:\n",
        "    A Colormap for visualizing segmentation results.\n",
        "  \"\"\"\n",
        "  colormap = np.asarray([\n",
        "      [0, 0, 0],\n",
        "      [120, 120, 120],\n",
        "      [180, 120, 120],\n",
        "      [6, 230, 230],\n",
        "      [80, 50, 50],\n",
        "      [4, 200, 3],\n",
        "      [120, 120, 80],\n",
        "      [140, 140, 140],\n",
        "      [204, 5, 255],\n",
        "      [230, 230, 230],\n",
        "      [4, 250, 7],\n",
        "      [224, 5, 255],\n",
        "      [235, 255, 7],\n",
        "      [150, 5, 61],\n",
        "      [120, 120, 70],\n",
        "      [8, 255, 51],\n",
        "      [255, 6, 82],\n",
        "      [143, 255, 140],\n",
        "      [204, 255, 4],\n",
        "      [255, 51, 7],\n",
        "      [204, 70, 3],\n",
        "      [0, 102, 200],\n",
        "      [61, 230, 250],\n",
        "      [255, 6, 51],\n",
        "      [11, 102, 255],\n",
        "      [255, 7, 71],\n",
        "      [255, 9, 224],\n",
        "      [9, 7, 230],\n",
        "      [220, 220, 220],\n",
        "      [255, 9, 92],\n",
        "      [112, 9, 255],\n",
        "      [8, 255, 214],\n",
        "      [7, 255, 224],\n",
        "      [255, 184, 6],\n",
        "      [10, 255, 71],\n",
        "      [255, 41, 10],\n",
        "      [7, 255, 255],\n",
        "      [224, 255, 8],\n",
        "      [102, 8, 255],\n",
        "      [255, 61, 6],\n",
        "      [255, 194, 7],\n",
        "      [255, 122, 8],\n",
        "      [0, 255, 20],\n",
        "      [255, 8, 41],\n",
        "      [255, 5, 153],\n",
        "      [6, 51, 255],\n",
        "      [235, 12, 255],\n",
        "      [160, 150, 20],\n",
        "      [0, 163, 255],\n",
        "      [140, 140, 140],\n",
        "      [250, 10, 15],\n",
        "      [20, 255, 0],\n",
        "      [31, 255, 0],\n",
        "      [255, 31, 0],\n",
        "      [255, 224, 0],\n",
        "      [153, 255, 0],\n",
        "      [0, 0, 255],\n",
        "      [255, 71, 0],\n",
        "      [0, 235, 255],\n",
        "      [0, 173, 255],\n",
        "      [31, 0, 255],\n",
        "      [11, 200, 200],\n",
        "      [255, 82, 0],\n",
        "      [0, 255, 245],\n",
        "      [0, 61, 255],\n",
        "      [0, 255, 112],\n",
        "      [0, 255, 133],\n",
        "      [255, 0, 0],\n",
        "      [255, 163, 0],\n",
        "      [255, 102, 0],\n",
        "      [194, 255, 0],\n",
        "      [0, 143, 255],\n",
        "      [51, 255, 0],\n",
        "      [0, 82, 255],\n",
        "      [0, 255, 41],\n",
        "      [0, 255, 173],\n",
        "      [10, 0, 255],\n",
        "      [173, 255, 0],\n",
        "      [0, 255, 153],\n",
        "      [255, 92, 0],\n",
        "      [255, 0, 255],\n",
        "      [255, 0, 245],\n",
        "      [255, 0, 102],\n",
        "      [255, 173, 0],\n",
        "      [255, 0, 20],\n",
        "      [255, 184, 184],\n",
        "      [0, 31, 255],\n",
        "      [0, 255, 61],\n",
        "      [0, 71, 255],\n",
        "      [255, 0, 204],\n",
        "      [0, 255, 194],\n",
        "      [0, 255, 82],\n",
        "      [0, 10, 255],\n",
        "      [0, 112, 255],\n",
        "      [51, 0, 255],\n",
        "      [0, 194, 255],\n",
        "      [0, 122, 255],\n",
        "      [0, 255, 163],\n",
        "      [255, 153, 0],\n",
        "      [0, 255, 10],\n",
        "      [255, 112, 0],\n",
        "      [143, 255, 0],\n",
        "      [82, 0, 255],\n",
        "      [163, 255, 0],\n",
        "      [255, 235, 0],\n",
        "      [8, 184, 170],\n",
        "      [133, 0, 255],\n",
        "      [0, 255, 92],\n",
        "      [184, 0, 255],\n",
        "      [255, 0, 31],\n",
        "      [0, 184, 255],\n",
        "      [0, 214, 255],\n",
        "      [255, 0, 112],\n",
        "      [92, 255, 0],\n",
        "      [0, 224, 255],\n",
        "      [112, 224, 255],\n",
        "      [70, 184, 160],\n",
        "      [163, 0, 255],\n",
        "      [153, 0, 255],\n",
        "      [71, 255, 0],\n",
        "      [255, 0, 163],\n",
        "      [255, 204, 0],\n",
        "      [255, 0, 143],\n",
        "      [0, 255, 235],\n",
        "      [133, 255, 0],\n",
        "      [255, 0, 235],\n",
        "      [245, 0, 255],\n",
        "      [255, 0, 122],\n",
        "      [255, 245, 0],\n",
        "      [10, 190, 212],\n",
        "      [214, 255, 0],\n",
        "      [0, 204, 255],\n",
        "      [20, 0, 255],\n",
        "      [255, 255, 0],\n",
        "      [0, 153, 255],\n",
        "      [0, 41, 255],\n",
        "      [0, 255, 204],\n",
        "      [41, 0, 255],\n",
        "      [41, 255, 0],\n",
        "      [173, 0, 255],\n",
        "      [0, 245, 255],\n",
        "      [71, 0, 255],\n",
        "      [122, 0, 255],\n",
        "      [0, 255, 184],\n",
        "      [0, 92, 255],\n",
        "      [184, 255, 0],\n",
        "      [0, 133, 255],\n",
        "      [255, 214, 0],\n",
        "      [25, 194, 194],\n",
        "      [102, 255, 0],\n",
        "      [92, 0, 255],\n",
        "  ])\n",
        "\n",
        "  return colormap\n",
        "\n",
        "\n",
        "\n",
        "LABEL_NAMES = np.asarray(labels_list)\n",
        "\n",
        "FULL_LABEL_MAP = np.arange(len(LABEL_NAMES)).reshape(len(LABEL_NAMES), 1)\n",
        "FULL_COLOR_MAP = label_to_color_image(FULL_LABEL_MAP)"
      ]
    },
    {
      "cell_type": "code",
      "execution_count": 5,
      "metadata": {
        "id": "5ghrR2b1cnNV"
      },
      "outputs": [],
      "source": [
        "def vis_segmentation(image, seg_map):\n",
        "  \"\"\"Visualizes input image, segmentation map and overlay view.\"\"\"\n",
        "  plt.figure(figsize=(15, 5))\n",
        "  grid_spec = gridspec.GridSpec(1, 4, width_ratios=[6, 6, 6, 1])\n",
        "\n",
        "  plt.subplot(grid_spec[0])\n",
        "  plt.imshow(image)\n",
        "  plt.axis('off')\n",
        "  plt.title('input image')\n",
        "\n",
        "  plt.subplot(grid_spec[1])\n",
        "  seg_image = label_to_color_image(seg_map).astype(np.uint8)\n",
        "  plt.imshow(seg_image)\n",
        "  plt.axis('off')\n",
        "  plt.title('segmentation map')\n",
        "\n",
        "  plt.subplot(grid_spec[2])\n",
        "  plt.imshow(image)\n",
        "  plt.imshow(seg_image, alpha=0.7)\n",
        "  plt.axis('off')\n",
        "  plt.title('segmentation overlay')\n",
        "\n",
        "  unique_labels = np.unique(seg_map)\n",
        "  ax = plt.subplot(grid_spec[3])\n",
        "  plt.imshow(\n",
        "      FULL_COLOR_MAP[unique_labels].astype(np.uint8), interpolation='nearest')\n",
        "  ax.yaxis.tick_right()\n",
        "  plt.yticks(range(len(unique_labels)), LABEL_NAMES[unique_labels])\n",
        "  plt.xticks([], [])\n",
        "  ax.tick_params(width=0.0)\n",
        "  plt.grid('off')\n",
        "  plt.show()"
      ]
    },
    {
      "cell_type": "markdown",
      "metadata": {
        "id": "nGcZzNkASG9A"
      },
      "source": [
        "## Select a pretrained model\n",
        "We have trained the DeepLab model using various backbone networks. Select one from the MODEL_NAME list."
      ]
    },
    {
      "cell_type": "code",
      "execution_count": 6,
      "metadata": {
        "colab": {
          "base_uri": "https://localhost:8080/"
        },
        "id": "c4oXKmnjw6i_",
        "outputId": "3f0229b6-6319-4f4d-a1be-255f8ed41c6a"
      },
      "outputs": [
        {
          "name": "stdout",
          "output_type": "stream",
          "text": [
            "downloading model, this might take a while...\n",
            "download completed! loading DeepLab model...\n",
            "model loaded successfully!\n"
          ]
        }
      ],
      "source": [
        "MODEL_NAME = \"latest_model\" #@param [\"mobilenetv2_coco_voctrainaug\", \"mobilenetv2_coco_voctrainval\", \"xception_coco_voctrainaug\", \"xception_coco_voctrainval\", \"latest_model\"]\n",
        "\n",
        "_DOWNLOAD_URL_PREFIX = 'http://download.tensorflow.org/models/'\n",
        "_MODEL_URLS = {\n",
        "    'latest_model':\n",
        "        'deeplabv3_mnv2_ade20k_train_2018_12_03.tar.gz',\n",
        "    'mobilenetv2_coco_voctrainaug':\n",
        "        'deeplabv3_mnv2_pascal_train_aug_2018_01_29.tar.gz',\n",
        "    'mobilenetv2_coco_voctrainval':\n",
        "        'deeplabv3_mnv2_pascal_trainval_2018_01_29.tar.gz',\n",
        "    'xception_coco_voctrainaug':\n",
        "        'deeplabv3_pascal_train_aug_2018_01_04.tar.gz',\n",
        "    'xception_coco_voctrainval':\n",
        "        'deeplabv3_pascal_trainval_2018_01_04.tar.gz',\n",
        "}\n",
        "_TARBALL_NAME = 'deeplab_model.tar.gz'\n",
        "\n",
        "# model_dir = tempfile.mkdtemp()\n",
        "path = os.getcwd()\n",
        "tf.io.gfile.makedirs(path)\n",
        "\n",
        "download_path = os.path.join(path, _TARBALL_NAME)\n",
        "print('downloading model, this might take a while...')\n",
        "# urllib.request.urlretrieve(_DOWNLOAD_URL_PREFIX + _MODEL_URLS[MODEL_NAME],\n",
        "#                    download_path)\n",
        "print('download completed! loading DeepLab model...')\n",
        "\n",
        "MODEL = DeepLabModel(download_path)\n",
        "print('model loaded successfully!')"
      ]
    },
    {
      "cell_type": "markdown",
      "metadata": {
        "id": "SZst78N-4OKO"
      },
      "source": [
        "## Run on sample images\n",
        "\n",
        "Select one of sample images (leave `IMAGE_URL` empty) or feed any internet image\n",
        "url for inference.\n",
        "\n",
        "Note that this colab uses single scale inference for fast computation,\n",
        "so the results may slightly differ from the visualizations in the\n",
        "[README](https://github.com/tensorflow/models/blob/master/research/deeplab/README.md) file,\n",
        "which uses multi-scale and left-right flipped inputs."
      ]
    },
    {
      "cell_type": "code",
      "execution_count": 10,
      "metadata": {
        "colab": {
          "base_uri": "https://localhost:8080/",
          "height": 376
        },
        "id": "edGukUHXyymr",
        "outputId": "8f86570e-7719-4988-c801-bf52febebfed"
      },
      "outputs": [
        {
          "name": "stdout",
          "output_type": "stream",
          "text": [
            "running deeplab on image https://images.unsplash.com/photo-1559455237-b7806697aac5?ixlib=rb-4.0.3&ixid=MnwxMjA3fDB8MHxzZWFyY2h8MTh8fG1pZGRsZSUyMGNsYXNzfGVufDB8fDB8fA%3D%3D&w=1000&q=80...\n"
          ]
        },
        {
          "name": "stderr",
          "output_type": "stream",
          "text": [
            "C:\\Users\\darklane\\AppData\\Local\\Temp\\ipykernel_11348\\1861173341.py:45: DeprecationWarning: ANTIALIAS is deprecated and will be removed in Pillow 10 (2023-07-01). Use LANCZOS or Resampling.LANCZOS instead.\n",
            "  resized_image = image.convert('RGB').resize(target_size, Image.ANTIALIAS)\n"
          ]
        },
        {
          "name": "stdout",
          "output_type": "stream",
          "text": [
            "[[1 1 1 ... 1 1 1]\n",
            " [1 1 1 ... 1 1 1]\n",
            " [1 1 1 ... 1 1 1]\n",
            " ...\n",
            " [0 0 0 ... 0 0 0]\n",
            " [0 0 0 ... 0 0 0]\n",
            " [0 0 0 ... 0 0 0]]\n",
            "(513, 384)\n"
          ]
        },
        {
          "data": {
            "image/png": "[encoded data removed]",
            "text/plain": [
              "<Figure size 640x480 with 1 Axes>"
            ]
          },
          "metadata": {},
          "output_type": "display_data"
        }
      ],
      "source": [
        "\n",
        "SAMPLE_IMAGE = 'image1'  # @param ['image1', 'image2', 'image3']\n",
        "# IMAGE_URL = 'https://lh3.googleusercontent.com/fife/AAWUweUf7yurKDa59qaKsw-uA6lX8o1TwJ1ZUunP5MYY72kFdhzJwr1m7VTkRQztspf5sndqJsC4x6R1CnOsMFGbZjHgOZqSS51BzGi7f8QBbFoo6ZZiHPisVaN2pQi4BtV_eO3tHf9LH34ZpKOOEEJvDmA3Jqn1QrWpa6BotOUfftBpIv0cqjz1DYQjFoCS5N5IFwa0PmufmZb29Tmo6FY1-9yvGmYT5R1NPMwqs3wihMw8vXWkhsPZz95hCGZ_ogZUh9JunI127oMC1qYJaYVaRzRWiEMksGsx8wS0K10X_d0qI8bg9MnQwM8CnGPG4Lqz4K4nrpThRB_4XhUV-5NyzPhKU_vGpvdwPwIFVi3K_EDhNTHH1x_d17tWXtSCGIwJMsvP9rpmcUjU4E2LSswJx2l9p3L23srpPMjAnYEutrQdJ9uAFXldxJy9X_8-m78wsPsDnxIHBH6WaoIErj9jw1hMlSVJf2gWkPU_gs1ARRp_q5FcWdWRuMeqrtziS-dZd4LVAiNPRmGhV8bhOl_pyYXqLrXfNdv-aTJBDbntHzhgYuOcf7odXF8wy3w4ObCUJKnCdOdzc2ej79-YBmsBLdNw2CXaNleQolCYRM2M1YaE5jovd-rPorWpfPFaZEM8i4jBpUVcOwiNkZNQ5WQP6u3Rwbin2vxuy8MOxVd3XlBvLb7p7QHT6FCWzVrRAe7bZsmClPKRiGvQ5V-4zfhgY2DyhzzBrfPOcc6hV6XNFwreIgT9-Esed7jH5ESEqyXLmK4zNDRPfoGgNeEgsXRqhOH9bFt2B5bmZO103d7xmiOX3ehXjPNrq36aHLUeL8n_owslKuKzhg_lFQEHDZNg_N8nR-zGt2p9VbHzFC3sRGWSqvd6m2xTD68gZTkBrhUS2q4JHGtmcnozoc2vCtfmPyF7-8Wq6tJCxFfeyjpmc1-f4xQrY7p_y3uOXdHGSNXY5ST4J8QT-yH8p32zMi_qkvh30-reRz8xPpYELPu0lebRDyvTiza6Wm3qhI6ObCBl1AlNqatfbR6lVxxhY7FIThZYiPYm68pqo7QLdR5bHJqS4VSXpZQFBEyqGz0UMAtt5fEV7oQ5cb4dvq1XlR5Dw7zYyS-c_9nslvr0AgGrmtKxpN7r7z5T8CpkKy9OG1wGQsxtQ1cMhBxkZtcOZagL3QCmn8_G7gK3rJ734hy7PcuHll5LCshAoSHT0BrQ5iklLQsoJ3lJivioNYv5J2B5s8_BHGqnAVYSJUt_8eHFtZksKxiPCdplGXOmtaUQascpqgnTw-0=w2880-h1464'  #@param {type:\"string\"}\n",
        "IMAGE_URL = 'https://images.unsplash.com/photo-1559455237-b7806697aac5?ixlib=rb-4.0.3&ixid=MnwxMjA3fDB8MHxzZWFyY2h8MTh8fG1pZGRsZSUyMGNsYXNzfGVufDB8fDB8fA%3D%3D&w=1000&q=80'\n",
        "\n",
        "_SAMPLE_URL = ('https://github.com/tensorflow/models/blob/master/research/'\n",
        "               'deeplab/g3doc/img/%s.jpg?raw=true')\n",
        "\n",
        "\n",
        "def run_visualization(url):\n",
        "  \"\"\"Inferences DeepLab model and visualizes result.\"\"\"\n",
        "  try:\n",
        "    f = urllib.request.urlopen(url)\n",
        "    jpeg_str = f.read()\n",
        "    original_im = Image.open(BytesIO(jpeg_str))\n",
        "  except IOError:\n",
        "    print('Cannot retrieve image. Please check url: ' + url)\n",
        "    return\n",
        "\n",
        "  print('running deeplab on image %s...' % url)\n",
        "  resized_im, seg_map = MODEL.run(original_im)\n",
        "\n",
        "\n",
        "  sky_class = 3  # sky class in the model\n",
        "  sky_mask = np.zeros(seg_map.shape,dtype=np.int64)\n",
        "\n",
        "  # filter sky\n",
        "  sky_mask = np.where(seg_map == sky_class, 1, 0)\n",
        "\n",
        "  print(sky_mask)\n",
        "  print(sky_mask.shape)\n",
        "\n",
        "  # display the sky mask\n",
        "  plt.imshow(sky_mask, ) \n",
        "  plt.axis('off')\n",
        "  plt.savefig('sky_mask.jpg')\n",
        "  # remov the axis\n",
        "  plt.axis('off')\n",
        "\n",
        "\n",
        "  # vis_segmentation(resized_im, seg_map)\n",
        "  # vis_segmentation(resized_im, sky_mask)\n",
        "\n",
        "\n",
        "\n",
        "image_url = IMAGE_URL or _SAMPLE_URL % SAMPLE_IMAGE\n",
        "run_visualization(image_url)"
      ]
    },
    {
      "cell_type": "markdown",
      "metadata": {
        "id": "aUbVoHScTJYe"
      },
      "source": [
        "## What's next\n",
        "\n",
        "* Learn about [Cloud TPUs](https://cloud.google.com/tpu/docs) that Google designed and optimized specifically to speed up and scale up ML workloads for training and inference and to enable ML engineers and researchers to iterate more quickly.\n",
        "* Explore the range of [Cloud TPU tutorials and Colabs](https://cloud.google.com/tpu/docs/tutorials) to find other examples that can be used when implementing your ML project.\n",
        "* For more information on running the DeepLab model on Cloud TPUs, see the [DeepLab tutorial](https://cloud.google.com/tpu/docs/tutorials/deeplab).\n"
      ]
    }
  ],
  "metadata": {
    "accelerator": "GPU",
    "colab": {
      "provenance": []
    },
    "gpuClass": "standard",
    "kernelspec": {
      "display_name": "Python 3",
      "language": "python",
      "name": "python3"
    },
    "language_info": {
      "codemirror_mode": {
        "name": "ipython",
        "version": 3
      },
      "file_extension": ".py",
      "mimetype": "text/x-python",
      "name": "python",
      "nbconvert_exporter": "python",
      "pygments_lexer": "ipython3",
      "version": "3.10.9"
    },
    "vscode": {
      "interpreter": {
        "hash": "26de051ba29f2982a8de78e945f0abaf191376122a1563185a90213a26c5da77"
      }
    }
  },
  "nbformat": 4,
  "nbformat_minor": 0
}
