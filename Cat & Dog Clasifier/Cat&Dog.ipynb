{
 "cells": [
  {
   "cell_type": "code",
   "execution_count": 13,
   "metadata": {},
   "outputs": [
    {
     "name": "stdout",
     "output_type": "stream",
     "text": [
      "Num GPUs: 1\n"
     ]
    }
   ],
   "source": [
    "import tensorflow as tf\n",
    "path = \"dataset\"\n",
    "physical_devices = tf.config.list_physical_devices('GPU')\n",
    "print(\"Num GPUs:\", len(physical_devices))\n",
    "tf.config.experimental.set_memory_growth(physical_devices[0], True)"
   ]
  },
  {
   "cell_type": "code",
   "execution_count": 14,
   "metadata": {},
   "outputs": [
    {
     "name": "stdout",
     "output_type": "stream",
     "text": [
      "Model: \"sequential_2\"\n",
      "_________________________________________________________________\n",
      " Layer (type)                Output Shape              Param #   \n",
      "=================================================================\n",
      " conv2d_4 (Conv2D)           (None, 244, 244, 32)      896       \n",
      "                                                                 \n",
      " max_pooling2d_4 (MaxPooling  (None, 122, 122, 32)     0         \n",
      " 2D)                                                             \n",
      "                                                                 \n",
      " dropout_6 (Dropout)         (None, 122, 122, 32)      0         \n",
      "                                                                 \n",
      " conv2d_5 (Conv2D)           (None, 122, 122, 64)      18496     \n",
      "                                                                 \n",
      " max_pooling2d_5 (MaxPooling  (None, 61, 61, 64)       0         \n",
      " 2D)                                                             \n",
      "                                                                 \n",
      " dropout_7 (Dropout)         (None, 61, 61, 64)        0         \n",
      "                                                                 \n",
      " flatten_2 (Flatten)         (None, 238144)            0         \n",
      "                                                                 \n",
      " dense_4 (Dense)             (None, 128)               30482560  \n",
      "                                                                 \n",
      " dropout_8 (Dropout)         (None, 128)               0         \n",
      "                                                                 \n",
      " dense_5 (Dense)             (None, 2)                 258       \n",
      "                                                                 \n",
      "=================================================================\n",
      "Total params: 30,502,210\n",
      "Trainable params: 30,502,210\n",
      "Non-trainable params: 0\n",
      "_________________________________________________________________\n"
     ]
    }
   ],
   "source": [
    "model = tf.keras.models.Sequential([\n",
    "\n",
    "    tf.keras.layers.Conv2D(32, (3,3) , padding = \"same\", activation='relu', input_shape=(244, 244, 3)),\n",
    "    tf.keras.layers.MaxPool2D(pool_size=(2, 2),strides=2),\n",
    "    tf.keras.layers.Dropout(0.1),\n",
    "    tf.keras.layers.Conv2D(64, (3,3), padding = \"same\", activation='relu'),\n",
    "    tf.keras.layers.MaxPool2D(pool_size=(2, 2),strides=2),\n",
    "    tf.keras.layers.Dropout(0.1),\n",
    "\n",
    "    tf.keras.layers.Flatten(),\n",
    "    \n",
    "    tf.keras.layers.Dense(128, activation='relu'),\n",
    "    tf.keras.layers.Dropout(0.1),\n",
    "    tf.keras.layers.Dense(2, activation='softmax')\n",
    "])\n",
    "model.summary()"
   ]
  },
  {
   "cell_type": "code",
   "execution_count": 15,
   "metadata": {},
   "outputs": [],
   "source": [
    "from tensorflow.keras.optimizers import Adam\n",
    "model.compile(loss= 'categorical_crossentropy' , optimizer=Adam(lr=0.001), metrics=[ 'accuracy' ])"
   ]
  },
  {
   "cell_type": "code",
   "execution_count": 16,
   "metadata": {},
   "outputs": [
    {
     "name": "stdout",
     "output_type": "stream",
     "text": [
      "Found 668 images belonging to 2 classes.\n",
      "Found 165 images belonging to 2 classes.\n"
     ]
    }
   ],
   "source": [
    "from tensorflow.keras.preprocessing.image import ImageDataGenerator\n",
    "\n",
    "train_datagen = ImageDataGenerator(\n",
    "    preprocessing_function=tf.keras.applications.resnet_v2.preprocess_input, #2 MODIFICATION\n",
    "    validation_split=0.2) \n",
    "\n",
    "train_generator = train_datagen.flow_from_directory(\n",
    "    path,\n",
    "    target_size=(244, 244),\n",
    "    batch_size=32,\n",
    "    class_mode='categorical',\n",
    "    subset='training') \n",
    "\n",
    "validation_generator = train_datagen.flow_from_directory(\n",
    "    path,\n",
    "    target_size=(244, 244),\n",
    "    batch_size=32,\n",
    "    class_mode='categorical',\n",
    "    subset='validation')"
   ]
  },
  {
   "cell_type": "code",
   "execution_count": 17,
   "metadata": {},
   "outputs": [
    {
     "name": "stdout",
     "output_type": "stream",
     "text": [
      "Epoch 1/20\n",
      "21/21 [==============================] - 3s 123ms/step - loss: 4.2558 - accuracy: 0.5539 - val_loss: 0.6889 - val_accuracy: 0.6121\n",
      "Epoch 2/20\n",
      "21/21 [==============================] - 2s 107ms/step - loss: 0.6740 - accuracy: 0.5958 - val_loss: 0.6855 - val_accuracy: 0.5879\n",
      "Epoch 3/20\n",
      "21/21 [==============================] - 2s 107ms/step - loss: 0.6368 - accuracy: 0.5778 - val_loss: 0.6616 - val_accuracy: 0.5818\n",
      "Epoch 4/20\n",
      "21/21 [==============================] - 2s 105ms/step - loss: 0.6149 - accuracy: 0.5988 - val_loss: 0.6635 - val_accuracy: 0.5939\n",
      "Epoch 5/20\n",
      "21/21 [==============================] - 2s 104ms/step - loss: 0.5929 - accuracy: 0.6617 - val_loss: 0.6703 - val_accuracy: 0.5879\n",
      "Epoch 6/20\n",
      "21/21 [==============================] - 2s 106ms/step - loss: 0.5608 - accuracy: 0.7141 - val_loss: 0.6575 - val_accuracy: 0.6061\n",
      "Epoch 7/20\n",
      "21/21 [==============================] - 2s 113ms/step - loss: 0.5097 - accuracy: 0.7485 - val_loss: 0.6626 - val_accuracy: 0.6242\n",
      "Epoch 8/20\n",
      "21/21 [==============================] - 2s 111ms/step - loss: 0.4419 - accuracy: 0.8024 - val_loss: 0.6545 - val_accuracy: 0.6061\n",
      "Epoch 9/20\n",
      "21/21 [==============================] - 3s 123ms/step - loss: 0.3429 - accuracy: 0.8698 - val_loss: 0.7308 - val_accuracy: 0.6000\n",
      "Epoch 10/20\n",
      "21/21 [==============================] - 2s 110ms/step - loss: 0.2276 - accuracy: 0.9356 - val_loss: 0.7907 - val_accuracy: 0.6000\n",
      "Epoch 11/20\n",
      "21/21 [==============================] - 2s 108ms/step - loss: 0.1463 - accuracy: 0.9626 - val_loss: 0.9034 - val_accuracy: 0.6121\n",
      "Epoch 12/20\n",
      "21/21 [==============================] - 2s 111ms/step - loss: 0.1008 - accuracy: 0.9746 - val_loss: 0.9207 - val_accuracy: 0.5818\n",
      "Epoch 13/20\n",
      "21/21 [==============================] - 2s 109ms/step - loss: 0.0650 - accuracy: 0.9865 - val_loss: 1.0621 - val_accuracy: 0.5879\n",
      "Epoch 14/20\n",
      "21/21 [==============================] - 2s 109ms/step - loss: 0.0420 - accuracy: 0.9940 - val_loss: 1.0785 - val_accuracy: 0.6242\n",
      "Epoch 15/20\n",
      "21/21 [==============================] - 2s 107ms/step - loss: 0.0272 - accuracy: 0.9985 - val_loss: 1.2788 - val_accuracy: 0.5879\n",
      "Epoch 16/20\n",
      "21/21 [==============================] - 2s 110ms/step - loss: 0.0376 - accuracy: 0.9925 - val_loss: 1.2026 - val_accuracy: 0.6303\n",
      "Epoch 17/20\n",
      "21/21 [==============================] - 2s 107ms/step - loss: 0.0227 - accuracy: 0.9955 - val_loss: 1.3795 - val_accuracy: 0.5879\n",
      "Epoch 18/20\n",
      "21/21 [==============================] - 2s 108ms/step - loss: 0.0146 - accuracy: 0.9985 - val_loss: 1.4719 - val_accuracy: 0.5818\n",
      "Epoch 19/20\n",
      "21/21 [==============================] - 2s 110ms/step - loss: 0.0169 - accuracy: 0.9985 - val_loss: 1.5148 - val_accuracy: 0.5697\n",
      "Epoch 20/20\n",
      "21/21 [==============================] - 2s 108ms/step - loss: 0.0106 - accuracy: 1.0000 - val_loss: 1.5537 - val_accuracy: 0.5576\n"
     ]
    }
   ],
   "source": [
    "history = model.fit(\n",
    "    train_generator,\n",
    "    validation_data=validation_generator,\n",
    "    # steps_per_epoch=425,\n",
    "    epochs=20\n",
    ")"
   ]
  }
 ],
 "metadata": {
  "kernelspec": {
   "display_name": "Python 3.10.7 64-bit",
   "language": "python",
   "name": "python3"
  },
  "language_info": {
   "codemirror_mode": {
    "name": "ipython",
    "version": 3
   },
   "file_extension": ".py",
   "mimetype": "text/x-python",
   "name": "python",
   "nbconvert_exporter": "python",
   "pygments_lexer": "ipython3",
   "version": "3.10.7"
  },
  "orig_nbformat": 4,
  "vscode": {
   "interpreter": {
    "hash": "13e83de3a06b505ae4faa04a0010c2b37764ed4e66da30b6776955c802e0f32d"
   }
  }
 },
 "nbformat": 4,
 "nbformat_minor": 2
}
